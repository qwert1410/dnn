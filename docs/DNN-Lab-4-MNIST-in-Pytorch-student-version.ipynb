{
  "cells": [
    {
      "cell_type": "markdown",
      "metadata": {
        "id": "MxW4dJFDfX_a"
      },
      "source": [
        "<center><img src='https://drive.google.com/uc?id=1_utx_ZGclmCwNttSe40kYA6VHzNocdET' height=\"60\"></center>\n",
        "\n",
        "AI TECH - Akademia Innowacyjnych Zastosowań Technologii Cyfrowych. Program Operacyjny Polska Cyfrowa na lata 2014-2020\n",
        "<hr>\n",
        "\n",
        "<center><img src='https://drive.google.com/uc?id=1BXZ0u3562N_MqCLcekI-Ens77Kk4LpPm'></center>\n",
        "\n",
        "<center>\n",
        "Projekt współfinansowany ze środków Unii Europejskiej w ramach Europejskiego Funduszu Rozwoju Regionalnego\n",
        "Program Operacyjny Polska Cyfrowa na lata 2014-2020,\n",
        "Oś Priorytetowa nr 3 \"Cyfrowe kompetencje społeczeństwa\" Działanie  nr 3.2 \"Innowacyjne rozwiązania na rzecz aktywizacji cyfrowej\"\n",
        "Tytuł projektu:  „Akademia Innowacyjnych Zastosowań Technologii Cyfrowych (AI Tech)”\n",
        "    </center>"
      ]
    },
    {
      "cell_type": "markdown",
      "metadata": {
        "id": "gcTwzhX8fBqs"
      },
      "source": [
        "Code based on https://github.com/pytorch/examples/blob/master/mnist/main.py\n",
        "\n",
        "In this exercise, we are using high-level abstractions from torch.nn like nn.Linear.\n",
        "Note: during the next lab session we will go one level deeper and implement more things\n",
        "with bare hands.\n",
        "\n",
        "Tasks:\n",
        "\n",
        " 1. Read the code.\n",
        "\n",
        " 2. Check that the given implementation reaches 95% test accuracy for architecture input-128-128-10 after few epochs.\n",
        "\n",
        " 3. Add the option to use SGD with momentum instead of ADAM.\n",
        "\n",
        " 4. Experiment with different learning rates. Use the provided TrainingVisualizer\n",
        " to plot the learning curves and gradient-to-weight ratios. Compare visualizations\n",
        " for different learning rates for both ADAM and SGD with momentum.\n",
        "\n",
        " 5. Parameterize the constructor by a list of sizes of hidden layers of the MLP.\n",
        " Note that this requires creating a list of layers as an attribute of the Net class,\n",
        " and one can't use a standard Python list containing nn.Modules (why?).\n",
        " Check torch.nn.ModuleList.\n",
        "\n",
        "If you run this notebook locally then you may need to install some packages.\n",
        "It may be achieved by adding the following code cell to the notebook and running it:\n",
        "```\n",
        "!pip install torch torchvision plotly ipywidgets\n",
        "```\n",
        "This notebook can also utilize Colab GPU. However, remember to kill your GPU session after classes as otherwise, you may use all your free GPU time for this week."
      ]
    },
    {
      "cell_type": "code",
      "execution_count": 1,
      "metadata": {
        "id": "IYAsziKffBFV"
      },
      "outputs": [],
      "source": [
        "import torch\n",
        "import torch.nn as nn\n",
        "import torch.nn.functional as F\n",
        "import torch.optim as optim\n",
        "from torchvision import datasets, transforms\n",
        "import plotly.graph_objects as go\n",
        "import sys\n",
        "\n",
        "if \"google.colab\" in sys.modules:\n",
        "    from google.colab import output\n",
        "\n",
        "    output.enable_custom_widget_manager()"
      ]
    },
    {
      "cell_type": "code",
      "execution_count": 2,
      "metadata": {
        "collapsed": true,
        "id": "ThUOOE4c8lAz"
      },
      "outputs": [],
      "source": [
        "# @title Visualize gradients\n",
        "\n",
        "\n",
        "class TrainingVisualizer:\n",
        "    def __init__(self, log_interval: int = 10):\n",
        "        self.log_interval = log_interval\n",
        "        self.train_loss_fig = self.init_line_plot(\n",
        "            title=\"Training loss\", xaxis_title=\"Step\"\n",
        "        )\n",
        "        self.grad_to_weight_fig = self.init_line_plot(\n",
        "            title=\"Gradient standard deviation to weight standard deviation ratio at 1st layer\",\n",
        "            xaxis_title=\"Step\",\n",
        "            yaxis_title=\"Gradient to weight ratio (log scale)\",\n",
        "            yaxis_type=\"log\",\n",
        "        )\n",
        "        self.test_acc_fig = self.init_line_plot(\n",
        "            title=\"Test accuracy\", x=[], xaxis_title=\"Epoch\", mode=\"lines+markers\"\n",
        "        )\n",
        "\n",
        "        # Parameters related to current tracked model and its training\n",
        "        self.first_linear_layer = None\n",
        "        self.lr = None\n",
        "        self.trace_idx = -1\n",
        "\n",
        "    def init_line_plot(\n",
        "        self,\n",
        "        title: str,\n",
        "        x=None,\n",
        "        xaxis_title: str = None,\n",
        "        yaxis_title: str = None,\n",
        "        yaxis_type: str = \"linear\",\n",
        "        mode: str = \"lines\",\n",
        "    ):\n",
        "        fig = go.Figure()\n",
        "        fig.update_layout(\n",
        "            title=title,\n",
        "            title_x=0.5,\n",
        "            xaxis_title=xaxis_title,\n",
        "            yaxis_title=yaxis_title,\n",
        "            height=400,\n",
        "            width=1500,\n",
        "            margin=dict(b=10, t=60),\n",
        "        )\n",
        "        fig.update_yaxes(type=yaxis_type)\n",
        "        # We cannot add new traces dynamically because Colab has a problem with widgets\n",
        "        # from plotly (traces added dynamically are rendered twice).\n",
        "        # As an ugly workaround we create a lot of empty traces and update them later\n",
        "        # with actual data. Empty traces are not plotted.\n",
        "        for _ in range(25):\n",
        "            fig.add_trace(go.Scatter(x=x, y=[], showlegend=True, mode=mode))\n",
        "\n",
        "        fig_widget = go.FigureWidget(fig)\n",
        "        display(fig_widget)\n",
        "        return fig_widget\n",
        "\n",
        "    def track_model(\n",
        "        self, model: torch.nn.Module, optimizer: torch.optim.Optimizer, lr: float\n",
        "    ):\n",
        "        \"\"\"\n",
        "        Start tracking training metrics for a new model.\n",
        "        \"\"\"\n",
        "\n",
        "        for field in model.__dict__[\"_modules\"].values():\n",
        "            if isinstance(field, nn.Linear):\n",
        "                self.first_linear_layer = field\n",
        "                break\n",
        "            elif isinstance(field, nn.ModuleList):\n",
        "                self.first_linear_layer = field[0]\n",
        "                break\n",
        "\n",
        "        self.lr = lr\n",
        "        self.trace_idx += 1\n",
        "\n",
        "        optim_name = type(optimizer).__name__\n",
        "        self.train_loss_fig.data[self.trace_idx].name = f\"{optim_name}, {lr}\"\n",
        "        self.grad_to_weight_fig.data[self.trace_idx].name = f\"{optim_name}, {lr}\"\n",
        "        self.test_acc_fig.data[self.trace_idx].name = f\"{optim_name}, {lr}\"\n",
        "\n",
        "    def plot_gradients_and_loss(self, batch_idx: int, loss: float):\n",
        "        if batch_idx % self.log_interval == 0:\n",
        "            self.train_loss_fig.data[self.trace_idx].y += (loss,)\n",
        "\n",
        "            layer = self.first_linear_layer\n",
        "            grad_to_weight_ratio = (\n",
        "                self.lr * layer.weight.grad.std() / layer.weight.std()\n",
        "            ).item()\n",
        "\n",
        "            self.grad_to_weight_fig.data[self.trace_idx].y += (grad_to_weight_ratio,)\n",
        "\n",
        "    def plot_accuracy(self, epoch: int, accuracy: float):\n",
        "        self.test_acc_fig.data[self.trace_idx].x += (epoch,)\n",
        "        self.test_acc_fig.data[self.trace_idx].y += (accuracy,)"
      ]
    },
    {
      "cell_type": "code",
      "execution_count": 3,
      "metadata": {
        "id": "DMtap4QCfBH8"
      },
      "outputs": [],
      "source": [
        "class Net(nn.Module):\n",
        "    def __init__(self):\n",
        "        super(Net, self).__init__()\n",
        "        # After flattening an image of size 28x28 we have 784 inputs\n",
        "        self.fc1 = nn.Linear(784, 128)\n",
        "        self.fc2 = nn.Linear(128, 128)\n",
        "        self.fc3 = nn.Linear(128, 10)\n",
        "\n",
        "    def forward(self, x: torch.Tensor):\n",
        "        x = torch.flatten(x, 1)\n",
        "        x = self.fc1(x)\n",
        "        x = F.relu(x)\n",
        "        x = self.fc2(x)\n",
        "        x = F.relu(x)\n",
        "        x = self.fc3(x)\n",
        "        output = F.log_softmax(x, dim=1)\n",
        "        return output\n",
        "\n",
        "\n",
        "def train(\n",
        "    model: torch.nn.Module,\n",
        "    device: torch.device,\n",
        "    train_loader: torch.utils.data.DataLoader,\n",
        "    optimizer: torch.optim.Optimizer,\n",
        "    epoch: int,\n",
        "    log_interval: int,\n",
        "    visualizer: TrainingVisualizer,\n",
        "    verbose: bool = False,\n",
        "):\n",
        "    # Setting the model to train mode makes model.training True.\n",
        "    # This can alter the behavior of modules like Dropout.\n",
        "    # This also applies to sub-modules if they are properly set\n",
        "    # Consider print(model.fc2.training)\n",
        "    # and then\n",
        "    # model.eval() or model.training()\n",
        "    # print(model.fc2.training)\n",
        "    model.train()\n",
        "    assert model.training\n",
        "    for batch_idx, (data, target) in enumerate(train_loader):\n",
        "        # PyTorch will return an error if the model and data are on different devices.\n",
        "        # The two most popular devices are cpu and cuda.\n",
        "        # You can also use .to(torch_tyoe) to change type.\n",
        "        # For example consider data = data.to(torch.float32)\n",
        "        # For more, see https://pytorch.org/docs/stable/tensors.html\n",
        "        data, target = data.to(device), target.to(device)\n",
        "        # Let p be a parameter of our model.\n",
        "        # Initially p.grad should be None.\n",
        "        # After we call loss.backward()\n",
        "        # p.grad() should be populated with (d loss)/(d p)\n",
        "        # optimizer.step() applies the gradient and updates optimizer stats.\n",
        "        # Whereas optimizer.zero_grad() clears the p.grad attribute.\n",
        "        # If we do not call  optimizer.zero_grad() then\n",
        "        # we will accumulate gradients from previous\n",
        "        # calls of loss.backward()\n",
        "        optimizer.zero_grad()\n",
        "        output = model(data)\n",
        "        loss = F.nll_loss(output, target)\n",
        "        loss.backward()\n",
        "        visualizer.plot_gradients_and_loss(batch_idx, loss.item())\n",
        "        optimizer.step()\n",
        "        if batch_idx % log_interval == 0:\n",
        "            if verbose:\n",
        "                print(\n",
        "                    \"Train Epoch: {} [{}/{} ({:.0f}%)]\\tLoss: {:.6f}\".format(\n",
        "                        epoch,\n",
        "                        batch_idx * len(data),\n",
        "                        len(train_loader.dataset),\n",
        "                        100.0 * batch_idx / len(train_loader),\n",
        "                        loss.item(),\n",
        "                    )\n",
        "                )\n",
        "\n",
        "\n",
        "def test(\n",
        "    model: torch.nn.Module,\n",
        "    device: torch.device,\n",
        "    test_loader: torch.utils.data.DataLoader,\n",
        "    epoch: int,\n",
        "    visualizer: TrainingVisualizer,\n",
        "    verbose: bool = False,\n",
        "):\n",
        "    # This makes model.training False\n",
        "    # What alters the behaviour of (sub)modules like Dropout\n",
        "    model.eval()\n",
        "    assert not model.training\n",
        "    test_loss = 0\n",
        "    correct = 0\n",
        "    # This disables gradient calculation.\n",
        "    # By default torch starts tracking calculations (what uses memory)\n",
        "    # for later backpropagation when it comes across a variable\n",
        "    # with requires_grad set to True.\n",
        "    # torch.no_grad prevents this\n",
        "    with torch.no_grad():\n",
        "        for data, target in test_loader:\n",
        "            data, target = data.to(device), target.to(device)\n",
        "            output = model(data)\n",
        "\n",
        "            test_loss += F.nll_loss(\n",
        "                output, target, reduction=\"sum\"\n",
        "            ).item()  # this sum up batch loss, however usually we prefer a mean reduction\n",
        "            pred = output.argmax(\n",
        "                dim=1, keepdim=True\n",
        "            )  # get the index of the max log-probability\n",
        "            correct += pred.eq(target.view_as(pred)).sum().item()\n",
        "\n",
        "    test_loss /= len(test_loader.dataset)\n",
        "\n",
        "    if verbose:\n",
        "        print(\n",
        "            \"\\nTest set: Average loss: {:.4f}, Accuracy: {}/{} ({:.0f}%)\\n\".format(\n",
        "                test_loss,\n",
        "                correct,\n",
        "                len(test_loader.dataset),\n",
        "                100.0 * correct / len(test_loader.dataset),\n",
        "            )\n",
        "        )\n",
        "    visualizer.plot_accuracy(epoch, 100.0 * correct / len(test_loader.dataset))"
      ]
    },
    {
      "cell_type": "code",
      "execution_count": 4,
      "metadata": {
        "id": "K5GlMs1-fBKP"
      },
      "outputs": [],
      "source": [
        "# training uses more memory than test due to gradient computation\n",
        "# therefore we can set test_batch_size to be larger\n",
        "batch_size = 256\n",
        "test_batch_size = 1000\n",
        "epochs = 5\n",
        "lr = 1e-2\n",
        "seed = 1\n",
        "log_interval = 10\n",
        "# to check whether a cuda device is available\n",
        "use_cuda = torch.cuda.is_available()"
      ]
    },
    {
      "cell_type": "code",
      "execution_count": 5,
      "metadata": {
        "id": "WgfUP23AfBMd"
      },
      "outputs": [],
      "source": [
        "# for reproductibility\n",
        "torch.manual_seed(seed)\n",
        "# if we have cuda capable device (ex, nvidia GPU) then we use it\n",
        "# otherwise we use cpu, there are also other devices like mps,\n",
        "# but their support for operations may be limited\n",
        "device = torch.device(\"cuda\" if use_cuda else \"cpu\")\n",
        "\n",
        "train_kwargs = {\"batch_size\": batch_size}\n",
        "test_kwargs = {\"batch_size\": test_batch_size}\n",
        "if use_cuda:\n",
        "    cuda_kwargs = {\"num_workers\": 1, \"pin_memory\": True, \"shuffle\": True}\n",
        "    train_kwargs.update(cuda_kwargs)\n",
        "    test_kwargs.update(cuda_kwargs)"
      ]
    },
    {
      "cell_type": "code",
      "execution_count": 6,
      "metadata": {
        "colab": {
          "base_uri": "https://localhost:8080/"
        },
        "id": "o0KPoUtsfBOs",
        "outputId": "4c96f237-4907-43de-8625-d7b97e095116"
      },
      "outputs": [
        {
          "output_type": "stream",
          "name": "stdout",
          "text": [
            "Downloading http://yann.lecun.com/exdb/mnist/train-images-idx3-ubyte.gz\n",
            "Failed to download (trying next):\n",
            "<urlopen error [SSL: CERTIFICATE_VERIFY_FAILED] certificate verify failed: certificate has expired (_ssl.c:1007)>\n",
            "\n",
            "Downloading https://ossci-datasets.s3.amazonaws.com/mnist/train-images-idx3-ubyte.gz\n",
            "Downloading https://ossci-datasets.s3.amazonaws.com/mnist/train-images-idx3-ubyte.gz to ../data/MNIST/raw/train-images-idx3-ubyte.gz\n"
          ]
        },
        {
          "output_type": "stream",
          "name": "stderr",
          "text": [
            "100%|██████████| 9.91M/9.91M [00:00<00:00, 52.0MB/s]\n"
          ]
        },
        {
          "output_type": "stream",
          "name": "stdout",
          "text": [
            "Extracting ../data/MNIST/raw/train-images-idx3-ubyte.gz to ../data/MNIST/raw\n",
            "\n",
            "Downloading http://yann.lecun.com/exdb/mnist/train-labels-idx1-ubyte.gz\n",
            "Failed to download (trying next):\n",
            "<urlopen error [SSL: CERTIFICATE_VERIFY_FAILED] certificate verify failed: certificate has expired (_ssl.c:1007)>\n",
            "\n",
            "Downloading https://ossci-datasets.s3.amazonaws.com/mnist/train-labels-idx1-ubyte.gz\n",
            "Downloading https://ossci-datasets.s3.amazonaws.com/mnist/train-labels-idx1-ubyte.gz to ../data/MNIST/raw/train-labels-idx1-ubyte.gz\n"
          ]
        },
        {
          "output_type": "stream",
          "name": "stderr",
          "text": [
            "100%|██████████| 28.9k/28.9k [00:00<00:00, 1.66MB/s]"
          ]
        },
        {
          "output_type": "stream",
          "name": "stdout",
          "text": [
            "Extracting ../data/MNIST/raw/train-labels-idx1-ubyte.gz to ../data/MNIST/raw\n",
            "\n",
            "Downloading http://yann.lecun.com/exdb/mnist/t10k-images-idx3-ubyte.gz\n"
          ]
        },
        {
          "output_type": "stream",
          "name": "stderr",
          "text": [
            "\n"
          ]
        },
        {
          "output_type": "stream",
          "name": "stdout",
          "text": [
            "Failed to download (trying next):\n",
            "<urlopen error [SSL: CERTIFICATE_VERIFY_FAILED] certificate verify failed: certificate has expired (_ssl.c:1007)>\n",
            "\n",
            "Downloading https://ossci-datasets.s3.amazonaws.com/mnist/t10k-images-idx3-ubyte.gz\n",
            "Downloading https://ossci-datasets.s3.amazonaws.com/mnist/t10k-images-idx3-ubyte.gz to ../data/MNIST/raw/t10k-images-idx3-ubyte.gz\n"
          ]
        },
        {
          "output_type": "stream",
          "name": "stderr",
          "text": [
            "100%|██████████| 1.65M/1.65M [00:00<00:00, 13.1MB/s]\n"
          ]
        },
        {
          "output_type": "stream",
          "name": "stdout",
          "text": [
            "Extracting ../data/MNIST/raw/t10k-images-idx3-ubyte.gz to ../data/MNIST/raw\n",
            "\n",
            "Downloading http://yann.lecun.com/exdb/mnist/t10k-labels-idx1-ubyte.gz\n",
            "Failed to download (trying next):\n",
            "<urlopen error [SSL: CERTIFICATE_VERIFY_FAILED] certificate verify failed: certificate has expired (_ssl.c:1007)>\n",
            "\n",
            "Downloading https://ossci-datasets.s3.amazonaws.com/mnist/t10k-labels-idx1-ubyte.gz\n",
            "Downloading https://ossci-datasets.s3.amazonaws.com/mnist/t10k-labels-idx1-ubyte.gz to ../data/MNIST/raw/t10k-labels-idx1-ubyte.gz\n"
          ]
        },
        {
          "output_type": "stream",
          "name": "stderr",
          "text": [
            "100%|██████████| 4.54k/4.54k [00:00<00:00, 2.38MB/s]"
          ]
        },
        {
          "output_type": "stream",
          "name": "stdout",
          "text": [
            "Extracting ../data/MNIST/raw/t10k-labels-idx1-ubyte.gz to ../data/MNIST/raw\n",
            "\n"
          ]
        },
        {
          "output_type": "stream",
          "name": "stderr",
          "text": [
            "\n"
          ]
        }
      ],
      "source": [
        "# data loader preparation\n",
        "transform = transforms.Compose(\n",
        "    [transforms.ToTensor(), transforms.Normalize((0.1307,), (0.3081,))]\n",
        ")\n",
        "dataset1 = datasets.MNIST(\"../data\", train=True, download=True, transform=transform)\n",
        "dataset2 = datasets.MNIST(\"../data\", train=False, transform=transform)\n",
        "train_loader = torch.utils.data.DataLoader(dataset1, **train_kwargs)\n",
        "test_loader = torch.utils.data.DataLoader(dataset2, **test_kwargs)"
      ]
    },
    {
      "cell_type": "code",
      "execution_count": 7,
      "metadata": {
        "id": "5NtsESKX8XrT",
        "outputId": "1ed0d96b-5f78-4364-d6b5-ba96ec2bcce2",
        "colab": {
          "base_uri": "https://localhost:8080/",
          "height": 1000,
          "referenced_widgets": [
            "24877588db4340e98a706ea98eb341a4",
            "e1bbe9e7b8324e638c69d126fe8b7a68",
            "bde70f3cab7346d7b4f9d9945b143e4c"
          ]
        }
      },
      "outputs": [
        {
          "output_type": "display_data",
          "data": {
            "application/vnd.jupyter.widget-view+json": {
              "version_major": 2,
              "version_minor": 0,
              "model_id": "24877588db4340e98a706ea98eb341a4"
            },
            "text/plain": [
              "FigureWidget({\n",
              "    'data': [{'mode': 'lines',\n",
              "              'showlegend': True,\n",
              "              'type': 'scatter',\n",
              "              'uid': 'da3c9cfe-71a2-4076-adf4-389ebbe7908f',\n",
              "              'y': []},\n",
              "             {'mode': 'lines',\n",
              "              'showlegend': True,\n",
              "              'type': 'scatter',\n",
              "              'uid': '50102d6e-f1d7-4689-8e2d-165090a25ba9',\n",
              "              'y': []},\n",
              "             {'mode': 'lines',\n",
              "              'showlegend': True,\n",
              "              'type': 'scatter',\n",
              "              'uid': '6c277148-b16c-4da2-82e1-12dc64ee3783',\n",
              "              'y': []},\n",
              "             {'mode': 'lines',\n",
              "              'showlegend': True,\n",
              "              'type': 'scatter',\n",
              "              'uid': 'de6c1adf-51ea-4d58-a9d9-9f496e70e311',\n",
              "              'y': []},\n",
              "             {'mode': 'lines',\n",
              "              'showlegend': True,\n",
              "              'type': 'scatter',\n",
              "              'uid': '5b7646b2-282a-4e82-8265-0a301b18a2bc',\n",
              "              'y': []},\n",
              "             {'mode': 'lines',\n",
              "              'showlegend': True,\n",
              "              'type': 'scatter',\n",
              "              'uid': '4dffdbdb-a38a-407c-a5db-476ea851c3c8',\n",
              "              'y': []},\n",
              "             {'mode': 'lines',\n",
              "              'showlegend': True,\n",
              "              'type': 'scatter',\n",
              "              'uid': '98314aa7-bae9-4638-81c6-45b69a855ded',\n",
              "              'y': []},\n",
              "             {'mode': 'lines',\n",
              "              'showlegend': True,\n",
              "              'type': 'scatter',\n",
              "              'uid': '3bc2bbd7-38f9-4327-ac29-4bab16549942',\n",
              "              'y': []},\n",
              "             {'mode': 'lines',\n",
              "              'showlegend': True,\n",
              "              'type': 'scatter',\n",
              "              'uid': '8d646d29-c61f-4216-97a4-a536b4ddc364',\n",
              "              'y': []},\n",
              "             {'mode': 'lines',\n",
              "              'showlegend': True,\n",
              "              'type': 'scatter',\n",
              "              'uid': 'b46c97ce-b246-453c-b0a0-9c28313b3bc2',\n",
              "              'y': []},\n",
              "             {'mode': 'lines',\n",
              "              'showlegend': True,\n",
              "              'type': 'scatter',\n",
              "              'uid': 'db5e6395-6863-4d90-85ae-8ed1cb499d25',\n",
              "              'y': []},\n",
              "             {'mode': 'lines',\n",
              "              'showlegend': True,\n",
              "              'type': 'scatter',\n",
              "              'uid': '390f92cd-376d-4d14-8a85-924235a97790',\n",
              "              'y': []},\n",
              "             {'mode': 'lines',\n",
              "              'showlegend': True,\n",
              "              'type': 'scatter',\n",
              "              'uid': '6317b1dd-0e8f-466e-a275-c38c57d63bf9',\n",
              "              'y': []},\n",
              "             {'mode': 'lines',\n",
              "              'showlegend': True,\n",
              "              'type': 'scatter',\n",
              "              'uid': 'e5e2817a-24ac-42b7-9a99-8897b95e1790',\n",
              "              'y': []},\n",
              "             {'mode': 'lines',\n",
              "              'showlegend': True,\n",
              "              'type': 'scatter',\n",
              "              'uid': 'd4cd9b45-39d8-4652-b25a-6f9841928e3f',\n",
              "              'y': []},\n",
              "             {'mode': 'lines',\n",
              "              'showlegend': True,\n",
              "              'type': 'scatter',\n",
              "              'uid': '33f654e8-79c3-420d-a613-3a95b7994f6c',\n",
              "              'y': []},\n",
              "             {'mode': 'lines',\n",
              "              'showlegend': True,\n",
              "              'type': 'scatter',\n",
              "              'uid': 'afa710c3-bf77-4285-a8d9-6b3d134fc2e9',\n",
              "              'y': []},\n",
              "             {'mode': 'lines',\n",
              "              'showlegend': True,\n",
              "              'type': 'scatter',\n",
              "              'uid': 'ba344d2c-ed02-4286-9029-902d21efb9d6',\n",
              "              'y': []},\n",
              "             {'mode': 'lines',\n",
              "              'showlegend': True,\n",
              "              'type': 'scatter',\n",
              "              'uid': '5a4bbaff-7780-429f-8981-d6846b92bc4f',\n",
              "              'y': []},\n",
              "             {'mode': 'lines',\n",
              "              'showlegend': True,\n",
              "              'type': 'scatter',\n",
              "              'uid': '52044ed6-75fa-4c0a-ad2d-ca42f960119a',\n",
              "              'y': []},\n",
              "             {'mode': 'lines',\n",
              "              'showlegend': True,\n",
              "              'type': 'scatter',\n",
              "              'uid': 'b5ace3b7-0c9d-4980-a933-78922648b190',\n",
              "              'y': []},\n",
              "             {'mode': 'lines',\n",
              "              'showlegend': True,\n",
              "              'type': 'scatter',\n",
              "              'uid': '501e0bf8-1006-427a-b8d6-44d790e8a338',\n",
              "              'y': []},\n",
              "             {'mode': 'lines',\n",
              "              'showlegend': True,\n",
              "              'type': 'scatter',\n",
              "              'uid': 'de7bd5ea-dea2-4518-a3d6-c5915613c9b2',\n",
              "              'y': []},\n",
              "             {'mode': 'lines',\n",
              "              'showlegend': True,\n",
              "              'type': 'scatter',\n",
              "              'uid': '6561cd1c-25e7-4768-aa13-5ae40f358b9c',\n",
              "              'y': []},\n",
              "             {'mode': 'lines',\n",
              "              'showlegend': True,\n",
              "              'type': 'scatter',\n",
              "              'uid': '5eeb8332-1b25-4544-9683-01b536a8fa7f',\n",
              "              'y': []}],\n",
              "    'layout': {'height': 400,\n",
              "               'margin': {'b': 10, 't': 60},\n",
              "               'template': '...',\n",
              "               'title': {'text': 'Training loss', 'x': 0.5},\n",
              "               'width': 1500,\n",
              "               'xaxis': {'title': {'text': 'Step'}},\n",
              "               'yaxis': {'type': 'linear'}}\n",
              "})"
            ]
          },
          "metadata": {
            "application/vnd.jupyter.widget-view+json": {
              "colab": {
                "custom_widget_manager": {
                  "url": "https://ssl.gstatic.com/colaboratory-static/widgets/colab-cdn-widget-manager/2b70e893a8ba7c0f/manager.min.js"
                }
              }
            }
          }
        },
        {
          "output_type": "display_data",
          "data": {
            "application/vnd.jupyter.widget-view+json": {
              "version_major": 2,
              "version_minor": 0,
              "model_id": "e1bbe9e7b8324e638c69d126fe8b7a68"
            },
            "text/plain": [
              "FigureWidget({\n",
              "    'data': [{'mode': 'lines',\n",
              "              'showlegend': True,\n",
              "              'type': 'scatter',\n",
              "              'uid': 'ac6c3602-70bc-4c0d-8544-23f1d31edb9d',\n",
              "              'y': []},\n",
              "             {'mode': 'lines',\n",
              "              'showlegend': True,\n",
              "              'type': 'scatter',\n",
              "              'uid': 'b31b675e-ffb1-42ad-afea-0d0534430208',\n",
              "              'y': []},\n",
              "             {'mode': 'lines',\n",
              "              'showlegend': True,\n",
              "              'type': 'scatter',\n",
              "              'uid': '2c715c04-05be-41d4-8841-613c99cba4ff',\n",
              "              'y': []},\n",
              "             {'mode': 'lines',\n",
              "              'showlegend': True,\n",
              "              'type': 'scatter',\n",
              "              'uid': 'd2c36ea8-40a7-4287-ae22-38979b997671',\n",
              "              'y': []},\n",
              "             {'mode': 'lines',\n",
              "              'showlegend': True,\n",
              "              'type': 'scatter',\n",
              "              'uid': '28be360c-2e31-42fe-97c0-b2c820ef0447',\n",
              "              'y': []},\n",
              "             {'mode': 'lines',\n",
              "              'showlegend': True,\n",
              "              'type': 'scatter',\n",
              "              'uid': '028bd27e-83d4-44c7-aabd-8186a5db2602',\n",
              "              'y': []},\n",
              "             {'mode': 'lines',\n",
              "              'showlegend': True,\n",
              "              'type': 'scatter',\n",
              "              'uid': 'cc2bfa1c-3573-497e-ae94-1920f1feedb0',\n",
              "              'y': []},\n",
              "             {'mode': 'lines',\n",
              "              'showlegend': True,\n",
              "              'type': 'scatter',\n",
              "              'uid': 'b19b281d-72a0-413f-95ca-07d7fedb0590',\n",
              "              'y': []},\n",
              "             {'mode': 'lines',\n",
              "              'showlegend': True,\n",
              "              'type': 'scatter',\n",
              "              'uid': '7db0d32d-b4ad-4bb7-953c-f108d3e66bb1',\n",
              "              'y': []},\n",
              "             {'mode': 'lines',\n",
              "              'showlegend': True,\n",
              "              'type': 'scatter',\n",
              "              'uid': '319d797f-88ae-4e61-82fd-79eb6ad6b201',\n",
              "              'y': []},\n",
              "             {'mode': 'lines',\n",
              "              'showlegend': True,\n",
              "              'type': 'scatter',\n",
              "              'uid': '30d5f9cd-fa1f-411e-96fb-2356f11f667d',\n",
              "              'y': []},\n",
              "             {'mode': 'lines',\n",
              "              'showlegend': True,\n",
              "              'type': 'scatter',\n",
              "              'uid': 'd79ea185-b14b-43bc-b107-f45ddd58caac',\n",
              "              'y': []},\n",
              "             {'mode': 'lines',\n",
              "              'showlegend': True,\n",
              "              'type': 'scatter',\n",
              "              'uid': '36a2e0e2-12cc-46ce-b079-942a6115adc5',\n",
              "              'y': []},\n",
              "             {'mode': 'lines',\n",
              "              'showlegend': True,\n",
              "              'type': 'scatter',\n",
              "              'uid': 'eaaf7547-e72b-4545-8f79-3131b8dcb8c9',\n",
              "              'y': []},\n",
              "             {'mode': 'lines',\n",
              "              'showlegend': True,\n",
              "              'type': 'scatter',\n",
              "              'uid': '569ddd27-45fb-4431-ac14-36b6f7b31546',\n",
              "              'y': []},\n",
              "             {'mode': 'lines',\n",
              "              'showlegend': True,\n",
              "              'type': 'scatter',\n",
              "              'uid': '68b8248e-b25a-4789-b03b-9194958a6be3',\n",
              "              'y': []},\n",
              "             {'mode': 'lines',\n",
              "              'showlegend': True,\n",
              "              'type': 'scatter',\n",
              "              'uid': '0813345a-8a23-4dbc-9adf-4c24cf416fb0',\n",
              "              'y': []},\n",
              "             {'mode': 'lines',\n",
              "              'showlegend': True,\n",
              "              'type': 'scatter',\n",
              "              'uid': 'f95849a5-8886-4325-ad15-91eaf78917ac',\n",
              "              'y': []},\n",
              "             {'mode': 'lines',\n",
              "              'showlegend': True,\n",
              "              'type': 'scatter',\n",
              "              'uid': 'f863b981-a8f8-4eb9-83cd-1623482eb00d',\n",
              "              'y': []},\n",
              "             {'mode': 'lines',\n",
              "              'showlegend': True,\n",
              "              'type': 'scatter',\n",
              "              'uid': '436e7121-d944-4ee2-b56a-a551ee183419',\n",
              "              'y': []},\n",
              "             {'mode': 'lines',\n",
              "              'showlegend': True,\n",
              "              'type': 'scatter',\n",
              "              'uid': '1affadad-4b80-4146-b1c8-4af3a5f03e24',\n",
              "              'y': []},\n",
              "             {'mode': 'lines',\n",
              "              'showlegend': True,\n",
              "              'type': 'scatter',\n",
              "              'uid': 'b2c76e40-9286-4fe6-acb0-e58dd17b61b6',\n",
              "              'y': []},\n",
              "             {'mode': 'lines',\n",
              "              'showlegend': True,\n",
              "              'type': 'scatter',\n",
              "              'uid': '1c06f746-ce39-4d6f-a6da-69851b90fd30',\n",
              "              'y': []},\n",
              "             {'mode': 'lines',\n",
              "              'showlegend': True,\n",
              "              'type': 'scatter',\n",
              "              'uid': 'ad567d0c-b054-4672-98b3-2f3503ef3b9d',\n",
              "              'y': []},\n",
              "             {'mode': 'lines',\n",
              "              'showlegend': True,\n",
              "              'type': 'scatter',\n",
              "              'uid': '16936ec0-60ad-4f87-a461-413fff1bde9f',\n",
              "              'y': []}],\n",
              "    'layout': {'height': 400,\n",
              "               'margin': {'b': 10, 't': 60},\n",
              "               'template': '...',\n",
              "               'title': {'text': 'Gradient standard deviation to weight standard deviation ratio at 1st layer', 'x': 0.5},\n",
              "               'width': 1500,\n",
              "               'xaxis': {'title': {'text': 'Step'}},\n",
              "               'yaxis': {'title': {'text': 'Gradient to weight ratio (log scale)'}, 'type': 'log'}}\n",
              "})"
            ]
          },
          "metadata": {
            "application/vnd.jupyter.widget-view+json": {
              "colab": {
                "custom_widget_manager": {
                  "url": "https://ssl.gstatic.com/colaboratory-static/widgets/colab-cdn-widget-manager/2b70e893a8ba7c0f/manager.min.js"
                }
              }
            }
          }
        },
        {
          "output_type": "display_data",
          "data": {
            "application/vnd.jupyter.widget-view+json": {
              "version_major": 2,
              "version_minor": 0,
              "model_id": "bde70f3cab7346d7b4f9d9945b143e4c"
            },
            "text/plain": [
              "FigureWidget({\n",
              "    'data': [{'mode': 'lines+markers',\n",
              "              'showlegend': True,\n",
              "              'type': 'scatter',\n",
              "              'uid': '5c87771f-c8d5-47ab-ba20-c3088c900397',\n",
              "              'x': [],\n",
              "              'y': []},\n",
              "             {'mode': 'lines+markers',\n",
              "              'showlegend': True,\n",
              "              'type': 'scatter',\n",
              "              'uid': '9ac1278e-2fd8-4018-830f-b7f9b4d1f5fa',\n",
              "              'x': [],\n",
              "              'y': []},\n",
              "             {'mode': 'lines+markers',\n",
              "              'showlegend': True,\n",
              "              'type': 'scatter',\n",
              "              'uid': 'af54a3ae-7f89-4825-85cd-19cf176c4ab5',\n",
              "              'x': [],\n",
              "              'y': []},\n",
              "             {'mode': 'lines+markers',\n",
              "              'showlegend': True,\n",
              "              'type': 'scatter',\n",
              "              'uid': 'd6221d2a-a5da-4144-9ca4-05308f5900ad',\n",
              "              'x': [],\n",
              "              'y': []},\n",
              "             {'mode': 'lines+markers',\n",
              "              'showlegend': True,\n",
              "              'type': 'scatter',\n",
              "              'uid': '309f5f48-ad21-4f71-bb4d-234ce0812ff6',\n",
              "              'x': [],\n",
              "              'y': []},\n",
              "             {'mode': 'lines+markers',\n",
              "              'showlegend': True,\n",
              "              'type': 'scatter',\n",
              "              'uid': '52ae461e-c97b-4751-8e72-a31cf56a425c',\n",
              "              'x': [],\n",
              "              'y': []},\n",
              "             {'mode': 'lines+markers',\n",
              "              'showlegend': True,\n",
              "              'type': 'scatter',\n",
              "              'uid': 'cf3f0be4-ecfd-4bf9-a9d8-e930d731985f',\n",
              "              'x': [],\n",
              "              'y': []},\n",
              "             {'mode': 'lines+markers',\n",
              "              'showlegend': True,\n",
              "              'type': 'scatter',\n",
              "              'uid': '0c209f10-f895-4748-a201-d4bba316b3bf',\n",
              "              'x': [],\n",
              "              'y': []},\n",
              "             {'mode': 'lines+markers',\n",
              "              'showlegend': True,\n",
              "              'type': 'scatter',\n",
              "              'uid': 'e749e7b1-404e-4b61-852a-31652c50762a',\n",
              "              'x': [],\n",
              "              'y': []},\n",
              "             {'mode': 'lines+markers',\n",
              "              'showlegend': True,\n",
              "              'type': 'scatter',\n",
              "              'uid': '084d9bac-b68f-4367-a4d7-8f746f724e23',\n",
              "              'x': [],\n",
              "              'y': []},\n",
              "             {'mode': 'lines+markers',\n",
              "              'showlegend': True,\n",
              "              'type': 'scatter',\n",
              "              'uid': 'b6a8c284-db54-4435-b3f3-cf5e1537f605',\n",
              "              'x': [],\n",
              "              'y': []},\n",
              "             {'mode': 'lines+markers',\n",
              "              'showlegend': True,\n",
              "              'type': 'scatter',\n",
              "              'uid': '6eb234f4-ea2b-4fc3-bec2-5630042eb4fe',\n",
              "              'x': [],\n",
              "              'y': []},\n",
              "             {'mode': 'lines+markers',\n",
              "              'showlegend': True,\n",
              "              'type': 'scatter',\n",
              "              'uid': 'f7103582-975a-4f63-927e-a63b620ef585',\n",
              "              'x': [],\n",
              "              'y': []},\n",
              "             {'mode': 'lines+markers',\n",
              "              'showlegend': True,\n",
              "              'type': 'scatter',\n",
              "              'uid': '2f270503-bfdc-4a2b-a3d7-f67efc65bce4',\n",
              "              'x': [],\n",
              "              'y': []},\n",
              "             {'mode': 'lines+markers',\n",
              "              'showlegend': True,\n",
              "              'type': 'scatter',\n",
              "              'uid': 'b3db1ffe-eaed-4aa2-abc2-c946366048f8',\n",
              "              'x': [],\n",
              "              'y': []},\n",
              "             {'mode': 'lines+markers',\n",
              "              'showlegend': True,\n",
              "              'type': 'scatter',\n",
              "              'uid': 'c3e25d02-ad53-4054-8d85-b2b9545e0171',\n",
              "              'x': [],\n",
              "              'y': []},\n",
              "             {'mode': 'lines+markers',\n",
              "              'showlegend': True,\n",
              "              'type': 'scatter',\n",
              "              'uid': 'f31fa421-acec-4dbd-b5b2-e5e5770f8acb',\n",
              "              'x': [],\n",
              "              'y': []},\n",
              "             {'mode': 'lines+markers',\n",
              "              'showlegend': True,\n",
              "              'type': 'scatter',\n",
              "              'uid': '59cb293b-dbbb-4e66-8aba-84ce1783da07',\n",
              "              'x': [],\n",
              "              'y': []},\n",
              "             {'mode': 'lines+markers',\n",
              "              'showlegend': True,\n",
              "              'type': 'scatter',\n",
              "              'uid': 'd0c6fd5d-4d12-485f-a8ae-21298668d4e9',\n",
              "              'x': [],\n",
              "              'y': []},\n",
              "             {'mode': 'lines+markers',\n",
              "              'showlegend': True,\n",
              "              'type': 'scatter',\n",
              "              'uid': 'c18e5ed9-18d0-4531-a894-c4c4c36d5bce',\n",
              "              'x': [],\n",
              "              'y': []},\n",
              "             {'mode': 'lines+markers',\n",
              "              'showlegend': True,\n",
              "              'type': 'scatter',\n",
              "              'uid': '1b64f660-fb88-4fa3-bb6a-b2e0fb9c1ecd',\n",
              "              'x': [],\n",
              "              'y': []},\n",
              "             {'mode': 'lines+markers',\n",
              "              'showlegend': True,\n",
              "              'type': 'scatter',\n",
              "              'uid': '0a920140-fa2f-4d12-9d03-2fa19df46302',\n",
              "              'x': [],\n",
              "              'y': []},\n",
              "             {'mode': 'lines+markers',\n",
              "              'showlegend': True,\n",
              "              'type': 'scatter',\n",
              "              'uid': '33d636ec-f086-4094-bf00-9ebb84caa145',\n",
              "              'x': [],\n",
              "              'y': []},\n",
              "             {'mode': 'lines+markers',\n",
              "              'showlegend': True,\n",
              "              'type': 'scatter',\n",
              "              'uid': '8e9e160b-f4cf-4fae-824f-52c278da965a',\n",
              "              'x': [],\n",
              "              'y': []},\n",
              "             {'mode': 'lines+markers',\n",
              "              'showlegend': True,\n",
              "              'type': 'scatter',\n",
              "              'uid': 'c0525f98-07ae-457b-869c-22b582f40eb2',\n",
              "              'x': [],\n",
              "              'y': []}],\n",
              "    'layout': {'height': 400,\n",
              "               'margin': {'b': 10, 't': 60},\n",
              "               'template': '...',\n",
              "               'title': {'text': 'Test accuracy', 'x': 0.5},\n",
              "               'width': 1500,\n",
              "               'xaxis': {'title': {'text': 'Epoch'}},\n",
              "               'yaxis': {'type': 'linear'}}\n",
              "})"
            ]
          },
          "metadata": {
            "application/vnd.jupyter.widget-view+json": {
              "colab": {
                "custom_widget_manager": {
                  "url": "https://ssl.gstatic.com/colaboratory-static/widgets/colab-cdn-widget-manager/2b70e893a8ba7c0f/manager.min.js"
                }
              }
            }
          }
        }
      ],
      "source": [
        "visualizer = TrainingVisualizer(log_interval=log_interval)"
      ]
    },
    {
      "cell_type": "code",
      "execution_count": 8,
      "metadata": {
        "id": "ezvIQbgsfBRT"
      },
      "outputs": [],
      "source": [
        "# Note that there is a difference between taking tensor to device and model to device.\n",
        "# Consider writing model.to(torch.device(\"cpu\")) and some_tesnor.to(torch.device(\"cpu\"))\n",
        "# What seems to be happening in-place?\n",
        "model = Net().to(device)\n",
        "# Look at the output of list(model.parameters()) as you add new parameters to the model\n",
        "# What happens when the parameters are inside the standard list instead of torch.nn.ModuleList?\n",
        "\n",
        "# optimizer = optim.Adam(model.parameters(), lr=lr)\n",
        "optimizer = optim.SGD(model.parameters(), lr=lr)\n",
        "visualizer.track_model(model, optimizer, lr)\n",
        "\n",
        "print_details = False  # change if you want additional output\n",
        "\n",
        "for epoch in range(1, epochs + 1):\n",
        "    train(\n",
        "        model,\n",
        "        device,\n",
        "        train_loader,\n",
        "        optimizer,\n",
        "        epoch,\n",
        "        log_interval,\n",
        "        visualizer,\n",
        "        verbose=print_details,\n",
        "    )\n",
        "    test(model, device, test_loader, epoch, visualizer, verbose=print_details)\n",
        "\n",
        "# investigate the results, what is the shape of test accuracy curve? Try to explain it."
      ]
    },
    {
      "cell_type": "code",
      "source": [],
      "metadata": {
        "id": "D_09mmZwGin4"
      },
      "execution_count": null,
      "outputs": []
    }
  ],
  "metadata": {
    "colab": {
      "provenance": []
    },
    "kernelspec": {
      "display_name": ".venv",
      "language": "python",
      "name": "python3"
    },
    "language_info": {
      "codemirror_mode": {
        "name": "ipython",
        "version": 3
      },
      "file_extension": ".py",
      "mimetype": "text/x-python",
      "name": "python",
      "nbconvert_exporter": "python",
      "pygments_lexer": "ipython3",
      "version": "3.12.3"
    },
    "widgets": {
      "application/vnd.jupyter.widget-state+json": {
        "24877588db4340e98a706ea98eb341a4": {
          "model_module": "jupyterlab-plotly",
          "model_name": "FigureModel",
          "model_module_version": "^5.24.1",
          "state": {
            "_config": {
              "plotlyServerURL": "https://plot.ly"
            },
            "_data": [
              {
                "mode": "lines",
                "showlegend": true,
                "y": [],
                "type": "scatter",
                "uid": "da3c9cfe-71a2-4076-adf4-389ebbe7908f"
              },
              {
                "mode": "lines",
                "showlegend": true,
                "y": [],
                "type": "scatter",
                "uid": "50102d6e-f1d7-4689-8e2d-165090a25ba9"
              },
              {
                "mode": "lines",
                "showlegend": true,
                "y": [],
                "type": "scatter",
                "uid": "6c277148-b16c-4da2-82e1-12dc64ee3783"
              },
              {
                "mode": "lines",
                "showlegend": true,
                "y": [],
                "type": "scatter",
                "uid": "de6c1adf-51ea-4d58-a9d9-9f496e70e311"
              },
              {
                "mode": "lines",
                "showlegend": true,
                "y": [],
                "type": "scatter",
                "uid": "5b7646b2-282a-4e82-8265-0a301b18a2bc"
              },
              {
                "mode": "lines",
                "showlegend": true,
                "y": [],
                "type": "scatter",
                "uid": "4dffdbdb-a38a-407c-a5db-476ea851c3c8"
              },
              {
                "mode": "lines",
                "showlegend": true,
                "y": [],
                "type": "scatter",
                "uid": "98314aa7-bae9-4638-81c6-45b69a855ded"
              },
              {
                "mode": "lines",
                "showlegend": true,
                "y": [],
                "type": "scatter",
                "uid": "3bc2bbd7-38f9-4327-ac29-4bab16549942"
              },
              {
                "mode": "lines",
                "showlegend": true,
                "y": [],
                "type": "scatter",
                "uid": "8d646d29-c61f-4216-97a4-a536b4ddc364"
              },
              {
                "mode": "lines",
                "showlegend": true,
                "y": [],
                "type": "scatter",
                "uid": "b46c97ce-b246-453c-b0a0-9c28313b3bc2"
              },
              {
                "mode": "lines",
                "showlegend": true,
                "y": [],
                "type": "scatter",
                "uid": "db5e6395-6863-4d90-85ae-8ed1cb499d25"
              },
              {
                "mode": "lines",
                "showlegend": true,
                "y": [],
                "type": "scatter",
                "uid": "390f92cd-376d-4d14-8a85-924235a97790"
              },
              {
                "mode": "lines",
                "showlegend": true,
                "y": [],
                "type": "scatter",
                "uid": "6317b1dd-0e8f-466e-a275-c38c57d63bf9"
              },
              {
                "mode": "lines",
                "showlegend": true,
                "y": [],
                "type": "scatter",
                "uid": "e5e2817a-24ac-42b7-9a99-8897b95e1790"
              },
              {
                "mode": "lines",
                "showlegend": true,
                "y": [],
                "type": "scatter",
                "uid": "d4cd9b45-39d8-4652-b25a-6f9841928e3f"
              },
              {
                "mode": "lines",
                "showlegend": true,
                "y": [],
                "type": "scatter",
                "uid": "33f654e8-79c3-420d-a613-3a95b7994f6c"
              },
              {
                "mode": "lines",
                "showlegend": true,
                "y": [],
                "type": "scatter",
                "uid": "afa710c3-bf77-4285-a8d9-6b3d134fc2e9"
              },
              {
                "mode": "lines",
                "showlegend": true,
                "y": [],
                "type": "scatter",
                "uid": "ba344d2c-ed02-4286-9029-902d21efb9d6"
              },
              {
                "mode": "lines",
                "showlegend": true,
                "y": [],
                "type": "scatter",
                "uid": "5a4bbaff-7780-429f-8981-d6846b92bc4f"
              },
              {
                "mode": "lines",
                "showlegend": true,
                "y": [],
                "type": "scatter",
                "uid": "52044ed6-75fa-4c0a-ad2d-ca42f960119a"
              },
              {
                "mode": "lines",
                "showlegend": true,
                "y": [],
                "type": "scatter",
                "uid": "b5ace3b7-0c9d-4980-a933-78922648b190"
              },
              {
                "mode": "lines",
                "showlegend": true,
                "y": [],
                "type": "scatter",
                "uid": "501e0bf8-1006-427a-b8d6-44d790e8a338"
              },
              {
                "mode": "lines",
                "showlegend": true,
                "y": [],
                "type": "scatter",
                "uid": "de7bd5ea-dea2-4518-a3d6-c5915613c9b2"
              },
              {
                "mode": "lines",
                "showlegend": true,
                "y": [],
                "type": "scatter",
                "uid": "6561cd1c-25e7-4768-aa13-5ae40f358b9c"
              },
              {
                "mode": "lines",
                "showlegend": true,
                "y": [],
                "type": "scatter",
                "uid": "5eeb8332-1b25-4544-9683-01b536a8fa7f"
              }
            ],
            "_dom_classes": [],
            "_js2py_layoutDelta": null,
            "_js2py_pointsCallback": {},
            "_js2py_relayout": {},
            "_js2py_restyle": {},
            "_js2py_traceDeltas": null,
            "_js2py_update": {},
            "_last_layout_edit_id": 121,
            "_last_trace_edit_id": 121,
            "_layout": {
              "height": 400,
              "margin": {
                "b": 10,
                "t": 60
              },
              "template": {
                "data": {
                  "barpolar": [
                    {
                      "marker": {
                        "line": {
                          "color": "#E5ECF6",
                          "width": 0.5
                        },
                        "pattern": {
                          "fillmode": "overlay",
                          "size": 10,
                          "solidity": 0.2
                        }
                      },
                      "type": "barpolar"
                    }
                  ],
                  "bar": [
                    {
                      "error_x": {
                        "color": "#2a3f5f"
                      },
                      "error_y": {
                        "color": "#2a3f5f"
                      },
                      "marker": {
                        "line": {
                          "color": "#E5ECF6",
                          "width": 0.5
                        },
                        "pattern": {
                          "fillmode": "overlay",
                          "size": 10,
                          "solidity": 0.2
                        }
                      },
                      "type": "bar"
                    }
                  ],
                  "carpet": [
                    {
                      "aaxis": {
                        "endlinecolor": "#2a3f5f",
                        "gridcolor": "white",
                        "linecolor": "white",
                        "minorgridcolor": "white",
                        "startlinecolor": "#2a3f5f"
                      },
                      "baxis": {
                        "endlinecolor": "#2a3f5f",
                        "gridcolor": "white",
                        "linecolor": "white",
                        "minorgridcolor": "white",
                        "startlinecolor": "#2a3f5f"
                      },
                      "type": "carpet"
                    }
                  ],
                  "choropleth": [
                    {
                      "colorbar": {
                        "outlinewidth": 0,
                        "ticks": ""
                      },
                      "type": "choropleth"
                    }
                  ],
                  "contourcarpet": [
                    {
                      "colorbar": {
                        "outlinewidth": 0,
                        "ticks": ""
                      },
                      "type": "contourcarpet"
                    }
                  ],
                  "contour": [
                    {
                      "colorbar": {
                        "outlinewidth": 0,
                        "ticks": ""
                      },
                      "colorscale": [
                        [
                          0,
                          "#0d0887"
                        ],
                        [
                          0.1111111111111111,
                          "#46039f"
                        ],
                        [
                          0.2222222222222222,
                          "#7201a8"
                        ],
                        [
                          0.3333333333333333,
                          "#9c179e"
                        ],
                        [
                          0.4444444444444444,
                          "#bd3786"
                        ],
                        [
                          0.5555555555555556,
                          "#d8576b"
                        ],
                        [
                          0.6666666666666666,
                          "#ed7953"
                        ],
                        [
                          0.7777777777777778,
                          "#fb9f3a"
                        ],
                        [
                          0.8888888888888888,
                          "#fdca26"
                        ],
                        [
                          1,
                          "#f0f921"
                        ]
                      ],
                      "type": "contour"
                    }
                  ],
                  "heatmapgl": [
                    {
                      "colorbar": {
                        "outlinewidth": 0,
                        "ticks": ""
                      },
                      "colorscale": [
                        [
                          0,
                          "#0d0887"
                        ],
                        [
                          0.1111111111111111,
                          "#46039f"
                        ],
                        [
                          0.2222222222222222,
                          "#7201a8"
                        ],
                        [
                          0.3333333333333333,
                          "#9c179e"
                        ],
                        [
                          0.4444444444444444,
                          "#bd3786"
                        ],
                        [
                          0.5555555555555556,
                          "#d8576b"
                        ],
                        [
                          0.6666666666666666,
                          "#ed7953"
                        ],
                        [
                          0.7777777777777778,
                          "#fb9f3a"
                        ],
                        [
                          0.8888888888888888,
                          "#fdca26"
                        ],
                        [
                          1,
                          "#f0f921"
                        ]
                      ],
                      "type": "heatmapgl"
                    }
                  ],
                  "heatmap": [
                    {
                      "colorbar": {
                        "outlinewidth": 0,
                        "ticks": ""
                      },
                      "colorscale": [
                        [
                          0,
                          "#0d0887"
                        ],
                        [
                          0.1111111111111111,
                          "#46039f"
                        ],
                        [
                          0.2222222222222222,
                          "#7201a8"
                        ],
                        [
                          0.3333333333333333,
                          "#9c179e"
                        ],
                        [
                          0.4444444444444444,
                          "#bd3786"
                        ],
                        [
                          0.5555555555555556,
                          "#d8576b"
                        ],
                        [
                          0.6666666666666666,
                          "#ed7953"
                        ],
                        [
                          0.7777777777777778,
                          "#fb9f3a"
                        ],
                        [
                          0.8888888888888888,
                          "#fdca26"
                        ],
                        [
                          1,
                          "#f0f921"
                        ]
                      ],
                      "type": "heatmap"
                    }
                  ],
                  "histogram2dcontour": [
                    {
                      "colorbar": {
                        "outlinewidth": 0,
                        "ticks": ""
                      },
                      "colorscale": [
                        [
                          0,
                          "#0d0887"
                        ],
                        [
                          0.1111111111111111,
                          "#46039f"
                        ],
                        [
                          0.2222222222222222,
                          "#7201a8"
                        ],
                        [
                          0.3333333333333333,
                          "#9c179e"
                        ],
                        [
                          0.4444444444444444,
                          "#bd3786"
                        ],
                        [
                          0.5555555555555556,
                          "#d8576b"
                        ],
                        [
                          0.6666666666666666,
                          "#ed7953"
                        ],
                        [
                          0.7777777777777778,
                          "#fb9f3a"
                        ],
                        [
                          0.8888888888888888,
                          "#fdca26"
                        ],
                        [
                          1,
                          "#f0f921"
                        ]
                      ],
                      "type": "histogram2dcontour"
                    }
                  ],
                  "histogram2d": [
                    {
                      "colorbar": {
                        "outlinewidth": 0,
                        "ticks": ""
                      },
                      "colorscale": [
                        [
                          0,
                          "#0d0887"
                        ],
                        [
                          0.1111111111111111,
                          "#46039f"
                        ],
                        [
                          0.2222222222222222,
                          "#7201a8"
                        ],
                        [
                          0.3333333333333333,
                          "#9c179e"
                        ],
                        [
                          0.4444444444444444,
                          "#bd3786"
                        ],
                        [
                          0.5555555555555556,
                          "#d8576b"
                        ],
                        [
                          0.6666666666666666,
                          "#ed7953"
                        ],
                        [
                          0.7777777777777778,
                          "#fb9f3a"
                        ],
                        [
                          0.8888888888888888,
                          "#fdca26"
                        ],
                        [
                          1,
                          "#f0f921"
                        ]
                      ],
                      "type": "histogram2d"
                    }
                  ],
                  "histogram": [
                    {
                      "marker": {
                        "pattern": {
                          "fillmode": "overlay",
                          "size": 10,
                          "solidity": 0.2
                        }
                      },
                      "type": "histogram"
                    }
                  ],
                  "mesh3d": [
                    {
                      "colorbar": {
                        "outlinewidth": 0,
                        "ticks": ""
                      },
                      "type": "mesh3d"
                    }
                  ],
                  "parcoords": [
                    {
                      "line": {
                        "colorbar": {
                          "outlinewidth": 0,
                          "ticks": ""
                        }
                      },
                      "type": "parcoords"
                    }
                  ],
                  "pie": [
                    {
                      "automargin": true,
                      "type": "pie"
                    }
                  ],
                  "scatter3d": [
                    {
                      "line": {
                        "colorbar": {
                          "outlinewidth": 0,
                          "ticks": ""
                        }
                      },
                      "marker": {
                        "colorbar": {
                          "outlinewidth": 0,
                          "ticks": ""
                        }
                      },
                      "type": "scatter3d"
                    }
                  ],
                  "scattercarpet": [
                    {
                      "marker": {
                        "colorbar": {
                          "outlinewidth": 0,
                          "ticks": ""
                        }
                      },
                      "type": "scattercarpet"
                    }
                  ],
                  "scattergeo": [
                    {
                      "marker": {
                        "colorbar": {
                          "outlinewidth": 0,
                          "ticks": ""
                        }
                      },
                      "type": "scattergeo"
                    }
                  ],
                  "scattergl": [
                    {
                      "marker": {
                        "colorbar": {
                          "outlinewidth": 0,
                          "ticks": ""
                        }
                      },
                      "type": "scattergl"
                    }
                  ],
                  "scattermapbox": [
                    {
                      "marker": {
                        "colorbar": {
                          "outlinewidth": 0,
                          "ticks": ""
                        }
                      },
                      "type": "scattermapbox"
                    }
                  ],
                  "scatterpolargl": [
                    {
                      "marker": {
                        "colorbar": {
                          "outlinewidth": 0,
                          "ticks": ""
                        }
                      },
                      "type": "scatterpolargl"
                    }
                  ],
                  "scatterpolar": [
                    {
                      "marker": {
                        "colorbar": {
                          "outlinewidth": 0,
                          "ticks": ""
                        }
                      },
                      "type": "scatterpolar"
                    }
                  ],
                  "scatter": [
                    {
                      "fillpattern": {
                        "fillmode": "overlay",
                        "size": 10,
                        "solidity": 0.2
                      },
                      "type": "scatter"
                    }
                  ],
                  "scatterternary": [
                    {
                      "marker": {
                        "colorbar": {
                          "outlinewidth": 0,
                          "ticks": ""
                        }
                      },
                      "type": "scatterternary"
                    }
                  ],
                  "surface": [
                    {
                      "colorbar": {
                        "outlinewidth": 0,
                        "ticks": ""
                      },
                      "colorscale": [
                        [
                          0,
                          "#0d0887"
                        ],
                        [
                          0.1111111111111111,
                          "#46039f"
                        ],
                        [
                          0.2222222222222222,
                          "#7201a8"
                        ],
                        [
                          0.3333333333333333,
                          "#9c179e"
                        ],
                        [
                          0.4444444444444444,
                          "#bd3786"
                        ],
                        [
                          0.5555555555555556,
                          "#d8576b"
                        ],
                        [
                          0.6666666666666666,
                          "#ed7953"
                        ],
                        [
                          0.7777777777777778,
                          "#fb9f3a"
                        ],
                        [
                          0.8888888888888888,
                          "#fdca26"
                        ],
                        [
                          1,
                          "#f0f921"
                        ]
                      ],
                      "type": "surface"
                    }
                  ],
                  "table": [
                    {
                      "cells": {
                        "fill": {
                          "color": "#EBF0F8"
                        },
                        "line": {
                          "color": "white"
                        }
                      },
                      "header": {
                        "fill": {
                          "color": "#C8D4E3"
                        },
                        "line": {
                          "color": "white"
                        }
                      },
                      "type": "table"
                    }
                  ]
                },
                "layout": {
                  "annotationdefaults": {
                    "arrowcolor": "#2a3f5f",
                    "arrowhead": 0,
                    "arrowwidth": 1
                  },
                  "autotypenumbers": "strict",
                  "coloraxis": {
                    "colorbar": {
                      "outlinewidth": 0,
                      "ticks": ""
                    }
                  },
                  "colorscale": {
                    "diverging": [
                      [
                        0,
                        "#8e0152"
                      ],
                      [
                        0.1,
                        "#c51b7d"
                      ],
                      [
                        0.2,
                        "#de77ae"
                      ],
                      [
                        0.3,
                        "#f1b6da"
                      ],
                      [
                        0.4,
                        "#fde0ef"
                      ],
                      [
                        0.5,
                        "#f7f7f7"
                      ],
                      [
                        0.6,
                        "#e6f5d0"
                      ],
                      [
                        0.7,
                        "#b8e186"
                      ],
                      [
                        0.8,
                        "#7fbc41"
                      ],
                      [
                        0.9,
                        "#4d9221"
                      ],
                      [
                        1,
                        "#276419"
                      ]
                    ],
                    "sequential": [
                      [
                        0,
                        "#0d0887"
                      ],
                      [
                        0.1111111111111111,
                        "#46039f"
                      ],
                      [
                        0.2222222222222222,
                        "#7201a8"
                      ],
                      [
                        0.3333333333333333,
                        "#9c179e"
                      ],
                      [
                        0.4444444444444444,
                        "#bd3786"
                      ],
                      [
                        0.5555555555555556,
                        "#d8576b"
                      ],
                      [
                        0.6666666666666666,
                        "#ed7953"
                      ],
                      [
                        0.7777777777777778,
                        "#fb9f3a"
                      ],
                      [
                        0.8888888888888888,
                        "#fdca26"
                      ],
                      [
                        1,
                        "#f0f921"
                      ]
                    ],
                    "sequentialminus": [
                      [
                        0,
                        "#0d0887"
                      ],
                      [
                        0.1111111111111111,
                        "#46039f"
                      ],
                      [
                        0.2222222222222222,
                        "#7201a8"
                      ],
                      [
                        0.3333333333333333,
                        "#9c179e"
                      ],
                      [
                        0.4444444444444444,
                        "#bd3786"
                      ],
                      [
                        0.5555555555555556,
                        "#d8576b"
                      ],
                      [
                        0.6666666666666666,
                        "#ed7953"
                      ],
                      [
                        0.7777777777777778,
                        "#fb9f3a"
                      ],
                      [
                        0.8888888888888888,
                        "#fdca26"
                      ],
                      [
                        1,
                        "#f0f921"
                      ]
                    ]
                  },
                  "colorway": [
                    "#636efa",
                    "#EF553B",
                    "#00cc96",
                    "#ab63fa",
                    "#FFA15A",
                    "#19d3f3",
                    "#FF6692",
                    "#B6E880",
                    "#FF97FF",
                    "#FECB52"
                  ],
                  "font": {
                    "color": "#2a3f5f"
                  },
                  "geo": {
                    "bgcolor": "white",
                    "lakecolor": "white",
                    "landcolor": "#E5ECF6",
                    "showlakes": true,
                    "showland": true,
                    "subunitcolor": "white"
                  },
                  "hoverlabel": {
                    "align": "left"
                  },
                  "hovermode": "closest",
                  "mapbox": {
                    "style": "light"
                  },
                  "paper_bgcolor": "white",
                  "plot_bgcolor": "#E5ECF6",
                  "polar": {
                    "angularaxis": {
                      "gridcolor": "white",
                      "linecolor": "white",
                      "ticks": ""
                    },
                    "bgcolor": "#E5ECF6",
                    "radialaxis": {
                      "gridcolor": "white",
                      "linecolor": "white",
                      "ticks": ""
                    }
                  },
                  "scene": {
                    "xaxis": {
                      "backgroundcolor": "#E5ECF6",
                      "gridcolor": "white",
                      "gridwidth": 2,
                      "linecolor": "white",
                      "showbackground": true,
                      "ticks": "",
                      "zerolinecolor": "white"
                    },
                    "yaxis": {
                      "backgroundcolor": "#E5ECF6",
                      "gridcolor": "white",
                      "gridwidth": 2,
                      "linecolor": "white",
                      "showbackground": true,
                      "ticks": "",
                      "zerolinecolor": "white"
                    },
                    "zaxis": {
                      "backgroundcolor": "#E5ECF6",
                      "gridcolor": "white",
                      "gridwidth": 2,
                      "linecolor": "white",
                      "showbackground": true,
                      "ticks": "",
                      "zerolinecolor": "white"
                    }
                  },
                  "shapedefaults": {
                    "line": {
                      "color": "#2a3f5f"
                    }
                  },
                  "ternary": {
                    "aaxis": {
                      "gridcolor": "white",
                      "linecolor": "white",
                      "ticks": ""
                    },
                    "baxis": {
                      "gridcolor": "white",
                      "linecolor": "white",
                      "ticks": ""
                    },
                    "bgcolor": "#E5ECF6",
                    "caxis": {
                      "gridcolor": "white",
                      "linecolor": "white",
                      "ticks": ""
                    }
                  },
                  "title": {
                    "x": 0.05
                  },
                  "xaxis": {
                    "automargin": true,
                    "gridcolor": "white",
                    "linecolor": "white",
                    "ticks": "",
                    "title": {
                      "standoff": 15
                    },
                    "zerolinecolor": "white",
                    "zerolinewidth": 2
                  },
                  "yaxis": {
                    "automargin": true,
                    "gridcolor": "white",
                    "linecolor": "white",
                    "ticks": "",
                    "title": {
                      "standoff": 15
                    },
                    "zerolinecolor": "white",
                    "zerolinewidth": 2
                  }
                }
              },
              "title": {
                "text": "Training loss",
                "x": 0.5
              },
              "width": 1500,
              "xaxis": {
                "title": {
                  "text": "Step"
                }
              },
              "yaxis": {
                "type": "linear"
              }
            },
            "_model_module": "jupyterlab-plotly",
            "_model_module_version": "^5.24.1",
            "_model_name": "FigureModel",
            "_py2js_addTraces": {},
            "_py2js_animate": {},
            "_py2js_deleteTraces": {},
            "_py2js_moveTraces": {},
            "_py2js_relayout": {},
            "_py2js_removeLayoutProps": {},
            "_py2js_removeTraceProps": {},
            "_py2js_restyle": null,
            "_py2js_update": {},
            "_view_count": 1,
            "_view_module": "jupyterlab-plotly",
            "_view_module_version": "^5.24.1",
            "_view_name": "FigureView"
          }
        },
        "e1bbe9e7b8324e638c69d126fe8b7a68": {
          "model_module": "jupyterlab-plotly",
          "model_name": "FigureModel",
          "model_module_version": "^5.24.1",
          "state": {
            "_config": {
              "plotlyServerURL": "https://plot.ly"
            },
            "_data": [
              {
                "mode": "lines",
                "showlegend": true,
                "y": [],
                "type": "scatter",
                "uid": "ac6c3602-70bc-4c0d-8544-23f1d31edb9d"
              },
              {
                "mode": "lines",
                "showlegend": true,
                "y": [],
                "type": "scatter",
                "uid": "b31b675e-ffb1-42ad-afea-0d0534430208"
              },
              {
                "mode": "lines",
                "showlegend": true,
                "y": [],
                "type": "scatter",
                "uid": "2c715c04-05be-41d4-8841-613c99cba4ff"
              },
              {
                "mode": "lines",
                "showlegend": true,
                "y": [],
                "type": "scatter",
                "uid": "d2c36ea8-40a7-4287-ae22-38979b997671"
              },
              {
                "mode": "lines",
                "showlegend": true,
                "y": [],
                "type": "scatter",
                "uid": "28be360c-2e31-42fe-97c0-b2c820ef0447"
              },
              {
                "mode": "lines",
                "showlegend": true,
                "y": [],
                "type": "scatter",
                "uid": "028bd27e-83d4-44c7-aabd-8186a5db2602"
              },
              {
                "mode": "lines",
                "showlegend": true,
                "y": [],
                "type": "scatter",
                "uid": "cc2bfa1c-3573-497e-ae94-1920f1feedb0"
              },
              {
                "mode": "lines",
                "showlegend": true,
                "y": [],
                "type": "scatter",
                "uid": "b19b281d-72a0-413f-95ca-07d7fedb0590"
              },
              {
                "mode": "lines",
                "showlegend": true,
                "y": [],
                "type": "scatter",
                "uid": "7db0d32d-b4ad-4bb7-953c-f108d3e66bb1"
              },
              {
                "mode": "lines",
                "showlegend": true,
                "y": [],
                "type": "scatter",
                "uid": "319d797f-88ae-4e61-82fd-79eb6ad6b201"
              },
              {
                "mode": "lines",
                "showlegend": true,
                "y": [],
                "type": "scatter",
                "uid": "30d5f9cd-fa1f-411e-96fb-2356f11f667d"
              },
              {
                "mode": "lines",
                "showlegend": true,
                "y": [],
                "type": "scatter",
                "uid": "d79ea185-b14b-43bc-b107-f45ddd58caac"
              },
              {
                "mode": "lines",
                "showlegend": true,
                "y": [],
                "type": "scatter",
                "uid": "36a2e0e2-12cc-46ce-b079-942a6115adc5"
              },
              {
                "mode": "lines",
                "showlegend": true,
                "y": [],
                "type": "scatter",
                "uid": "eaaf7547-e72b-4545-8f79-3131b8dcb8c9"
              },
              {
                "mode": "lines",
                "showlegend": true,
                "y": [],
                "type": "scatter",
                "uid": "569ddd27-45fb-4431-ac14-36b6f7b31546"
              },
              {
                "mode": "lines",
                "showlegend": true,
                "y": [],
                "type": "scatter",
                "uid": "68b8248e-b25a-4789-b03b-9194958a6be3"
              },
              {
                "mode": "lines",
                "showlegend": true,
                "y": [],
                "type": "scatter",
                "uid": "0813345a-8a23-4dbc-9adf-4c24cf416fb0"
              },
              {
                "mode": "lines",
                "showlegend": true,
                "y": [],
                "type": "scatter",
                "uid": "f95849a5-8886-4325-ad15-91eaf78917ac"
              },
              {
                "mode": "lines",
                "showlegend": true,
                "y": [],
                "type": "scatter",
                "uid": "f863b981-a8f8-4eb9-83cd-1623482eb00d"
              },
              {
                "mode": "lines",
                "showlegend": true,
                "y": [],
                "type": "scatter",
                "uid": "436e7121-d944-4ee2-b56a-a551ee183419"
              },
              {
                "mode": "lines",
                "showlegend": true,
                "y": [],
                "type": "scatter",
                "uid": "1affadad-4b80-4146-b1c8-4af3a5f03e24"
              },
              {
                "mode": "lines",
                "showlegend": true,
                "y": [],
                "type": "scatter",
                "uid": "b2c76e40-9286-4fe6-acb0-e58dd17b61b6"
              },
              {
                "mode": "lines",
                "showlegend": true,
                "y": [],
                "type": "scatter",
                "uid": "1c06f746-ce39-4d6f-a6da-69851b90fd30"
              },
              {
                "mode": "lines",
                "showlegend": true,
                "y": [],
                "type": "scatter",
                "uid": "ad567d0c-b054-4672-98b3-2f3503ef3b9d"
              },
              {
                "mode": "lines",
                "showlegend": true,
                "y": [],
                "type": "scatter",
                "uid": "16936ec0-60ad-4f87-a461-413fff1bde9f"
              }
            ],
            "_dom_classes": [],
            "_js2py_layoutDelta": null,
            "_js2py_pointsCallback": {},
            "_js2py_relayout": {},
            "_js2py_restyle": {},
            "_js2py_traceDeltas": null,
            "_js2py_update": {},
            "_last_layout_edit_id": 121,
            "_last_trace_edit_id": 121,
            "_layout": {
              "height": 400,
              "margin": {
                "b": 10,
                "t": 60
              },
              "template": {
                "data": {
                  "barpolar": [
                    {
                      "marker": {
                        "line": {
                          "color": "#E5ECF6",
                          "width": 0.5
                        },
                        "pattern": {
                          "fillmode": "overlay",
                          "size": 10,
                          "solidity": 0.2
                        }
                      },
                      "type": "barpolar"
                    }
                  ],
                  "bar": [
                    {
                      "error_x": {
                        "color": "#2a3f5f"
                      },
                      "error_y": {
                        "color": "#2a3f5f"
                      },
                      "marker": {
                        "line": {
                          "color": "#E5ECF6",
                          "width": 0.5
                        },
                        "pattern": {
                          "fillmode": "overlay",
                          "size": 10,
                          "solidity": 0.2
                        }
                      },
                      "type": "bar"
                    }
                  ],
                  "carpet": [
                    {
                      "aaxis": {
                        "endlinecolor": "#2a3f5f",
                        "gridcolor": "white",
                        "linecolor": "white",
                        "minorgridcolor": "white",
                        "startlinecolor": "#2a3f5f"
                      },
                      "baxis": {
                        "endlinecolor": "#2a3f5f",
                        "gridcolor": "white",
                        "linecolor": "white",
                        "minorgridcolor": "white",
                        "startlinecolor": "#2a3f5f"
                      },
                      "type": "carpet"
                    }
                  ],
                  "choropleth": [
                    {
                      "colorbar": {
                        "outlinewidth": 0,
                        "ticks": ""
                      },
                      "type": "choropleth"
                    }
                  ],
                  "contourcarpet": [
                    {
                      "colorbar": {
                        "outlinewidth": 0,
                        "ticks": ""
                      },
                      "type": "contourcarpet"
                    }
                  ],
                  "contour": [
                    {
                      "colorbar": {
                        "outlinewidth": 0,
                        "ticks": ""
                      },
                      "colorscale": [
                        [
                          0,
                          "#0d0887"
                        ],
                        [
                          0.1111111111111111,
                          "#46039f"
                        ],
                        [
                          0.2222222222222222,
                          "#7201a8"
                        ],
                        [
                          0.3333333333333333,
                          "#9c179e"
                        ],
                        [
                          0.4444444444444444,
                          "#bd3786"
                        ],
                        [
                          0.5555555555555556,
                          "#d8576b"
                        ],
                        [
                          0.6666666666666666,
                          "#ed7953"
                        ],
                        [
                          0.7777777777777778,
                          "#fb9f3a"
                        ],
                        [
                          0.8888888888888888,
                          "#fdca26"
                        ],
                        [
                          1,
                          "#f0f921"
                        ]
                      ],
                      "type": "contour"
                    }
                  ],
                  "heatmapgl": [
                    {
                      "colorbar": {
                        "outlinewidth": 0,
                        "ticks": ""
                      },
                      "colorscale": [
                        [
                          0,
                          "#0d0887"
                        ],
                        [
                          0.1111111111111111,
                          "#46039f"
                        ],
                        [
                          0.2222222222222222,
                          "#7201a8"
                        ],
                        [
                          0.3333333333333333,
                          "#9c179e"
                        ],
                        [
                          0.4444444444444444,
                          "#bd3786"
                        ],
                        [
                          0.5555555555555556,
                          "#d8576b"
                        ],
                        [
                          0.6666666666666666,
                          "#ed7953"
                        ],
                        [
                          0.7777777777777778,
                          "#fb9f3a"
                        ],
                        [
                          0.8888888888888888,
                          "#fdca26"
                        ],
                        [
                          1,
                          "#f0f921"
                        ]
                      ],
                      "type": "heatmapgl"
                    }
                  ],
                  "heatmap": [
                    {
                      "colorbar": {
                        "outlinewidth": 0,
                        "ticks": ""
                      },
                      "colorscale": [
                        [
                          0,
                          "#0d0887"
                        ],
                        [
                          0.1111111111111111,
                          "#46039f"
                        ],
                        [
                          0.2222222222222222,
                          "#7201a8"
                        ],
                        [
                          0.3333333333333333,
                          "#9c179e"
                        ],
                        [
                          0.4444444444444444,
                          "#bd3786"
                        ],
                        [
                          0.5555555555555556,
                          "#d8576b"
                        ],
                        [
                          0.6666666666666666,
                          "#ed7953"
                        ],
                        [
                          0.7777777777777778,
                          "#fb9f3a"
                        ],
                        [
                          0.8888888888888888,
                          "#fdca26"
                        ],
                        [
                          1,
                          "#f0f921"
                        ]
                      ],
                      "type": "heatmap"
                    }
                  ],
                  "histogram2dcontour": [
                    {
                      "colorbar": {
                        "outlinewidth": 0,
                        "ticks": ""
                      },
                      "colorscale": [
                        [
                          0,
                          "#0d0887"
                        ],
                        [
                          0.1111111111111111,
                          "#46039f"
                        ],
                        [
                          0.2222222222222222,
                          "#7201a8"
                        ],
                        [
                          0.3333333333333333,
                          "#9c179e"
                        ],
                        [
                          0.4444444444444444,
                          "#bd3786"
                        ],
                        [
                          0.5555555555555556,
                          "#d8576b"
                        ],
                        [
                          0.6666666666666666,
                          "#ed7953"
                        ],
                        [
                          0.7777777777777778,
                          "#fb9f3a"
                        ],
                        [
                          0.8888888888888888,
                          "#fdca26"
                        ],
                        [
                          1,
                          "#f0f921"
                        ]
                      ],
                      "type": "histogram2dcontour"
                    }
                  ],
                  "histogram2d": [
                    {
                      "colorbar": {
                        "outlinewidth": 0,
                        "ticks": ""
                      },
                      "colorscale": [
                        [
                          0,
                          "#0d0887"
                        ],
                        [
                          0.1111111111111111,
                          "#46039f"
                        ],
                        [
                          0.2222222222222222,
                          "#7201a8"
                        ],
                        [
                          0.3333333333333333,
                          "#9c179e"
                        ],
                        [
                          0.4444444444444444,
                          "#bd3786"
                        ],
                        [
                          0.5555555555555556,
                          "#d8576b"
                        ],
                        [
                          0.6666666666666666,
                          "#ed7953"
                        ],
                        [
                          0.7777777777777778,
                          "#fb9f3a"
                        ],
                        [
                          0.8888888888888888,
                          "#fdca26"
                        ],
                        [
                          1,
                          "#f0f921"
                        ]
                      ],
                      "type": "histogram2d"
                    }
                  ],
                  "histogram": [
                    {
                      "marker": {
                        "pattern": {
                          "fillmode": "overlay",
                          "size": 10,
                          "solidity": 0.2
                        }
                      },
                      "type": "histogram"
                    }
                  ],
                  "mesh3d": [
                    {
                      "colorbar": {
                        "outlinewidth": 0,
                        "ticks": ""
                      },
                      "type": "mesh3d"
                    }
                  ],
                  "parcoords": [
                    {
                      "line": {
                        "colorbar": {
                          "outlinewidth": 0,
                          "ticks": ""
                        }
                      },
                      "type": "parcoords"
                    }
                  ],
                  "pie": [
                    {
                      "automargin": true,
                      "type": "pie"
                    }
                  ],
                  "scatter3d": [
                    {
                      "line": {
                        "colorbar": {
                          "outlinewidth": 0,
                          "ticks": ""
                        }
                      },
                      "marker": {
                        "colorbar": {
                          "outlinewidth": 0,
                          "ticks": ""
                        }
                      },
                      "type": "scatter3d"
                    }
                  ],
                  "scattercarpet": [
                    {
                      "marker": {
                        "colorbar": {
                          "outlinewidth": 0,
                          "ticks": ""
                        }
                      },
                      "type": "scattercarpet"
                    }
                  ],
                  "scattergeo": [
                    {
                      "marker": {
                        "colorbar": {
                          "outlinewidth": 0,
                          "ticks": ""
                        }
                      },
                      "type": "scattergeo"
                    }
                  ],
                  "scattergl": [
                    {
                      "marker": {
                        "colorbar": {
                          "outlinewidth": 0,
                          "ticks": ""
                        }
                      },
                      "type": "scattergl"
                    }
                  ],
                  "scattermapbox": [
                    {
                      "marker": {
                        "colorbar": {
                          "outlinewidth": 0,
                          "ticks": ""
                        }
                      },
                      "type": "scattermapbox"
                    }
                  ],
                  "scatterpolargl": [
                    {
                      "marker": {
                        "colorbar": {
                          "outlinewidth": 0,
                          "ticks": ""
                        }
                      },
                      "type": "scatterpolargl"
                    }
                  ],
                  "scatterpolar": [
                    {
                      "marker": {
                        "colorbar": {
                          "outlinewidth": 0,
                          "ticks": ""
                        }
                      },
                      "type": "scatterpolar"
                    }
                  ],
                  "scatter": [
                    {
                      "fillpattern": {
                        "fillmode": "overlay",
                        "size": 10,
                        "solidity": 0.2
                      },
                      "type": "scatter"
                    }
                  ],
                  "scatterternary": [
                    {
                      "marker": {
                        "colorbar": {
                          "outlinewidth": 0,
                          "ticks": ""
                        }
                      },
                      "type": "scatterternary"
                    }
                  ],
                  "surface": [
                    {
                      "colorbar": {
                        "outlinewidth": 0,
                        "ticks": ""
                      },
                      "colorscale": [
                        [
                          0,
                          "#0d0887"
                        ],
                        [
                          0.1111111111111111,
                          "#46039f"
                        ],
                        [
                          0.2222222222222222,
                          "#7201a8"
                        ],
                        [
                          0.3333333333333333,
                          "#9c179e"
                        ],
                        [
                          0.4444444444444444,
                          "#bd3786"
                        ],
                        [
                          0.5555555555555556,
                          "#d8576b"
                        ],
                        [
                          0.6666666666666666,
                          "#ed7953"
                        ],
                        [
                          0.7777777777777778,
                          "#fb9f3a"
                        ],
                        [
                          0.8888888888888888,
                          "#fdca26"
                        ],
                        [
                          1,
                          "#f0f921"
                        ]
                      ],
                      "type": "surface"
                    }
                  ],
                  "table": [
                    {
                      "cells": {
                        "fill": {
                          "color": "#EBF0F8"
                        },
                        "line": {
                          "color": "white"
                        }
                      },
                      "header": {
                        "fill": {
                          "color": "#C8D4E3"
                        },
                        "line": {
                          "color": "white"
                        }
                      },
                      "type": "table"
                    }
                  ]
                },
                "layout": {
                  "annotationdefaults": {
                    "arrowcolor": "#2a3f5f",
                    "arrowhead": 0,
                    "arrowwidth": 1
                  },
                  "autotypenumbers": "strict",
                  "coloraxis": {
                    "colorbar": {
                      "outlinewidth": 0,
                      "ticks": ""
                    }
                  },
                  "colorscale": {
                    "diverging": [
                      [
                        0,
                        "#8e0152"
                      ],
                      [
                        0.1,
                        "#c51b7d"
                      ],
                      [
                        0.2,
                        "#de77ae"
                      ],
                      [
                        0.3,
                        "#f1b6da"
                      ],
                      [
                        0.4,
                        "#fde0ef"
                      ],
                      [
                        0.5,
                        "#f7f7f7"
                      ],
                      [
                        0.6,
                        "#e6f5d0"
                      ],
                      [
                        0.7,
                        "#b8e186"
                      ],
                      [
                        0.8,
                        "#7fbc41"
                      ],
                      [
                        0.9,
                        "#4d9221"
                      ],
                      [
                        1,
                        "#276419"
                      ]
                    ],
                    "sequential": [
                      [
                        0,
                        "#0d0887"
                      ],
                      [
                        0.1111111111111111,
                        "#46039f"
                      ],
                      [
                        0.2222222222222222,
                        "#7201a8"
                      ],
                      [
                        0.3333333333333333,
                        "#9c179e"
                      ],
                      [
                        0.4444444444444444,
                        "#bd3786"
                      ],
                      [
                        0.5555555555555556,
                        "#d8576b"
                      ],
                      [
                        0.6666666666666666,
                        "#ed7953"
                      ],
                      [
                        0.7777777777777778,
                        "#fb9f3a"
                      ],
                      [
                        0.8888888888888888,
                        "#fdca26"
                      ],
                      [
                        1,
                        "#f0f921"
                      ]
                    ],
                    "sequentialminus": [
                      [
                        0,
                        "#0d0887"
                      ],
                      [
                        0.1111111111111111,
                        "#46039f"
                      ],
                      [
                        0.2222222222222222,
                        "#7201a8"
                      ],
                      [
                        0.3333333333333333,
                        "#9c179e"
                      ],
                      [
                        0.4444444444444444,
                        "#bd3786"
                      ],
                      [
                        0.5555555555555556,
                        "#d8576b"
                      ],
                      [
                        0.6666666666666666,
                        "#ed7953"
                      ],
                      [
                        0.7777777777777778,
                        "#fb9f3a"
                      ],
                      [
                        0.8888888888888888,
                        "#fdca26"
                      ],
                      [
                        1,
                        "#f0f921"
                      ]
                    ]
                  },
                  "colorway": [
                    "#636efa",
                    "#EF553B",
                    "#00cc96",
                    "#ab63fa",
                    "#FFA15A",
                    "#19d3f3",
                    "#FF6692",
                    "#B6E880",
                    "#FF97FF",
                    "#FECB52"
                  ],
                  "font": {
                    "color": "#2a3f5f"
                  },
                  "geo": {
                    "bgcolor": "white",
                    "lakecolor": "white",
                    "landcolor": "#E5ECF6",
                    "showlakes": true,
                    "showland": true,
                    "subunitcolor": "white"
                  },
                  "hoverlabel": {
                    "align": "left"
                  },
                  "hovermode": "closest",
                  "mapbox": {
                    "style": "light"
                  },
                  "paper_bgcolor": "white",
                  "plot_bgcolor": "#E5ECF6",
                  "polar": {
                    "angularaxis": {
                      "gridcolor": "white",
                      "linecolor": "white",
                      "ticks": ""
                    },
                    "bgcolor": "#E5ECF6",
                    "radialaxis": {
                      "gridcolor": "white",
                      "linecolor": "white",
                      "ticks": ""
                    }
                  },
                  "scene": {
                    "xaxis": {
                      "backgroundcolor": "#E5ECF6",
                      "gridcolor": "white",
                      "gridwidth": 2,
                      "linecolor": "white",
                      "showbackground": true,
                      "ticks": "",
                      "zerolinecolor": "white"
                    },
                    "yaxis": {
                      "backgroundcolor": "#E5ECF6",
                      "gridcolor": "white",
                      "gridwidth": 2,
                      "linecolor": "white",
                      "showbackground": true,
                      "ticks": "",
                      "zerolinecolor": "white"
                    },
                    "zaxis": {
                      "backgroundcolor": "#E5ECF6",
                      "gridcolor": "white",
                      "gridwidth": 2,
                      "linecolor": "white",
                      "showbackground": true,
                      "ticks": "",
                      "zerolinecolor": "white"
                    }
                  },
                  "shapedefaults": {
                    "line": {
                      "color": "#2a3f5f"
                    }
                  },
                  "ternary": {
                    "aaxis": {
                      "gridcolor": "white",
                      "linecolor": "white",
                      "ticks": ""
                    },
                    "baxis": {
                      "gridcolor": "white",
                      "linecolor": "white",
                      "ticks": ""
                    },
                    "bgcolor": "#E5ECF6",
                    "caxis": {
                      "gridcolor": "white",
                      "linecolor": "white",
                      "ticks": ""
                    }
                  },
                  "title": {
                    "x": 0.05
                  },
                  "xaxis": {
                    "automargin": true,
                    "gridcolor": "white",
                    "linecolor": "white",
                    "ticks": "",
                    "title": {
                      "standoff": 15
                    },
                    "zerolinecolor": "white",
                    "zerolinewidth": 2
                  },
                  "yaxis": {
                    "automargin": true,
                    "gridcolor": "white",
                    "linecolor": "white",
                    "ticks": "",
                    "title": {
                      "standoff": 15
                    },
                    "zerolinecolor": "white",
                    "zerolinewidth": 2
                  }
                }
              },
              "title": {
                "text": "Gradient standard deviation to weight standard deviation ratio at 1st layer",
                "x": 0.5
              },
              "width": 1500,
              "xaxis": {
                "title": {
                  "text": "Step"
                }
              },
              "yaxis": {
                "title": {
                  "text": "Gradient to weight ratio (log scale)"
                },
                "type": "log"
              }
            },
            "_model_module": "jupyterlab-plotly",
            "_model_module_version": "^5.24.1",
            "_model_name": "FigureModel",
            "_py2js_addTraces": {},
            "_py2js_animate": {},
            "_py2js_deleteTraces": {},
            "_py2js_moveTraces": {},
            "_py2js_relayout": {},
            "_py2js_removeLayoutProps": {},
            "_py2js_removeTraceProps": null,
            "_py2js_restyle": null,
            "_py2js_update": {},
            "_view_count": 1,
            "_view_module": "jupyterlab-plotly",
            "_view_module_version": "^5.24.1",
            "_view_name": "FigureView"
          }
        },
        "bde70f3cab7346d7b4f9d9945b143e4c": {
          "model_module": "jupyterlab-plotly",
          "model_name": "FigureModel",
          "model_module_version": "^5.24.1",
          "state": {
            "_config": {
              "plotlyServerURL": "https://plot.ly"
            },
            "_data": [
              {
                "mode": "lines+markers",
                "showlegend": true,
                "x": [],
                "y": [],
                "type": "scatter",
                "uid": "5c87771f-c8d5-47ab-ba20-c3088c900397"
              },
              {
                "mode": "lines+markers",
                "showlegend": true,
                "x": [],
                "y": [],
                "type": "scatter",
                "uid": "9ac1278e-2fd8-4018-830f-b7f9b4d1f5fa"
              },
              {
                "mode": "lines+markers",
                "showlegend": true,
                "x": [],
                "y": [],
                "type": "scatter",
                "uid": "af54a3ae-7f89-4825-85cd-19cf176c4ab5"
              },
              {
                "mode": "lines+markers",
                "showlegend": true,
                "x": [],
                "y": [],
                "type": "scatter",
                "uid": "d6221d2a-a5da-4144-9ca4-05308f5900ad"
              },
              {
                "mode": "lines+markers",
                "showlegend": true,
                "x": [],
                "y": [],
                "type": "scatter",
                "uid": "309f5f48-ad21-4f71-bb4d-234ce0812ff6"
              },
              {
                "mode": "lines+markers",
                "showlegend": true,
                "x": [],
                "y": [],
                "type": "scatter",
                "uid": "52ae461e-c97b-4751-8e72-a31cf56a425c"
              },
              {
                "mode": "lines+markers",
                "showlegend": true,
                "x": [],
                "y": [],
                "type": "scatter",
                "uid": "cf3f0be4-ecfd-4bf9-a9d8-e930d731985f"
              },
              {
                "mode": "lines+markers",
                "showlegend": true,
                "x": [],
                "y": [],
                "type": "scatter",
                "uid": "0c209f10-f895-4748-a201-d4bba316b3bf"
              },
              {
                "mode": "lines+markers",
                "showlegend": true,
                "x": [],
                "y": [],
                "type": "scatter",
                "uid": "e749e7b1-404e-4b61-852a-31652c50762a"
              },
              {
                "mode": "lines+markers",
                "showlegend": true,
                "x": [],
                "y": [],
                "type": "scatter",
                "uid": "084d9bac-b68f-4367-a4d7-8f746f724e23"
              },
              {
                "mode": "lines+markers",
                "showlegend": true,
                "x": [],
                "y": [],
                "type": "scatter",
                "uid": "b6a8c284-db54-4435-b3f3-cf5e1537f605"
              },
              {
                "mode": "lines+markers",
                "showlegend": true,
                "x": [],
                "y": [],
                "type": "scatter",
                "uid": "6eb234f4-ea2b-4fc3-bec2-5630042eb4fe"
              },
              {
                "mode": "lines+markers",
                "showlegend": true,
                "x": [],
                "y": [],
                "type": "scatter",
                "uid": "f7103582-975a-4f63-927e-a63b620ef585"
              },
              {
                "mode": "lines+markers",
                "showlegend": true,
                "x": [],
                "y": [],
                "type": "scatter",
                "uid": "2f270503-bfdc-4a2b-a3d7-f67efc65bce4"
              },
              {
                "mode": "lines+markers",
                "showlegend": true,
                "x": [],
                "y": [],
                "type": "scatter",
                "uid": "b3db1ffe-eaed-4aa2-abc2-c946366048f8"
              },
              {
                "mode": "lines+markers",
                "showlegend": true,
                "x": [],
                "y": [],
                "type": "scatter",
                "uid": "c3e25d02-ad53-4054-8d85-b2b9545e0171"
              },
              {
                "mode": "lines+markers",
                "showlegend": true,
                "x": [],
                "y": [],
                "type": "scatter",
                "uid": "f31fa421-acec-4dbd-b5b2-e5e5770f8acb"
              },
              {
                "mode": "lines+markers",
                "showlegend": true,
                "x": [],
                "y": [],
                "type": "scatter",
                "uid": "59cb293b-dbbb-4e66-8aba-84ce1783da07"
              },
              {
                "mode": "lines+markers",
                "showlegend": true,
                "x": [],
                "y": [],
                "type": "scatter",
                "uid": "d0c6fd5d-4d12-485f-a8ae-21298668d4e9"
              },
              {
                "mode": "lines+markers",
                "showlegend": true,
                "x": [],
                "y": [],
                "type": "scatter",
                "uid": "c18e5ed9-18d0-4531-a894-c4c4c36d5bce"
              },
              {
                "mode": "lines+markers",
                "showlegend": true,
                "x": [],
                "y": [],
                "type": "scatter",
                "uid": "1b64f660-fb88-4fa3-bb6a-b2e0fb9c1ecd"
              },
              {
                "mode": "lines+markers",
                "showlegend": true,
                "x": [],
                "y": [],
                "type": "scatter",
                "uid": "0a920140-fa2f-4d12-9d03-2fa19df46302"
              },
              {
                "mode": "lines+markers",
                "showlegend": true,
                "x": [],
                "y": [],
                "type": "scatter",
                "uid": "33d636ec-f086-4094-bf00-9ebb84caa145"
              },
              {
                "mode": "lines+markers",
                "showlegend": true,
                "x": [],
                "y": [],
                "type": "scatter",
                "uid": "8e9e160b-f4cf-4fae-824f-52c278da965a"
              },
              {
                "mode": "lines+markers",
                "showlegend": true,
                "x": [],
                "y": [],
                "type": "scatter",
                "uid": "c0525f98-07ae-457b-869c-22b582f40eb2"
              }
            ],
            "_dom_classes": [],
            "_js2py_layoutDelta": null,
            "_js2py_pointsCallback": {},
            "_js2py_relayout": {},
            "_js2py_restyle": {},
            "_js2py_traceDeltas": null,
            "_js2py_update": {},
            "_last_layout_edit_id": 11,
            "_last_trace_edit_id": 11,
            "_layout": {
              "height": 400,
              "margin": {
                "b": 10,
                "t": 60
              },
              "template": {
                "data": {
                  "barpolar": [
                    {
                      "marker": {
                        "line": {
                          "color": "#E5ECF6",
                          "width": 0.5
                        },
                        "pattern": {
                          "fillmode": "overlay",
                          "size": 10,
                          "solidity": 0.2
                        }
                      },
                      "type": "barpolar"
                    }
                  ],
                  "bar": [
                    {
                      "error_x": {
                        "color": "#2a3f5f"
                      },
                      "error_y": {
                        "color": "#2a3f5f"
                      },
                      "marker": {
                        "line": {
                          "color": "#E5ECF6",
                          "width": 0.5
                        },
                        "pattern": {
                          "fillmode": "overlay",
                          "size": 10,
                          "solidity": 0.2
                        }
                      },
                      "type": "bar"
                    }
                  ],
                  "carpet": [
                    {
                      "aaxis": {
                        "endlinecolor": "#2a3f5f",
                        "gridcolor": "white",
                        "linecolor": "white",
                        "minorgridcolor": "white",
                        "startlinecolor": "#2a3f5f"
                      },
                      "baxis": {
                        "endlinecolor": "#2a3f5f",
                        "gridcolor": "white",
                        "linecolor": "white",
                        "minorgridcolor": "white",
                        "startlinecolor": "#2a3f5f"
                      },
                      "type": "carpet"
                    }
                  ],
                  "choropleth": [
                    {
                      "colorbar": {
                        "outlinewidth": 0,
                        "ticks": ""
                      },
                      "type": "choropleth"
                    }
                  ],
                  "contourcarpet": [
                    {
                      "colorbar": {
                        "outlinewidth": 0,
                        "ticks": ""
                      },
                      "type": "contourcarpet"
                    }
                  ],
                  "contour": [
                    {
                      "colorbar": {
                        "outlinewidth": 0,
                        "ticks": ""
                      },
                      "colorscale": [
                        [
                          0,
                          "#0d0887"
                        ],
                        [
                          0.1111111111111111,
                          "#46039f"
                        ],
                        [
                          0.2222222222222222,
                          "#7201a8"
                        ],
                        [
                          0.3333333333333333,
                          "#9c179e"
                        ],
                        [
                          0.4444444444444444,
                          "#bd3786"
                        ],
                        [
                          0.5555555555555556,
                          "#d8576b"
                        ],
                        [
                          0.6666666666666666,
                          "#ed7953"
                        ],
                        [
                          0.7777777777777778,
                          "#fb9f3a"
                        ],
                        [
                          0.8888888888888888,
                          "#fdca26"
                        ],
                        [
                          1,
                          "#f0f921"
                        ]
                      ],
                      "type": "contour"
                    }
                  ],
                  "heatmapgl": [
                    {
                      "colorbar": {
                        "outlinewidth": 0,
                        "ticks": ""
                      },
                      "colorscale": [
                        [
                          0,
                          "#0d0887"
                        ],
                        [
                          0.1111111111111111,
                          "#46039f"
                        ],
                        [
                          0.2222222222222222,
                          "#7201a8"
                        ],
                        [
                          0.3333333333333333,
                          "#9c179e"
                        ],
                        [
                          0.4444444444444444,
                          "#bd3786"
                        ],
                        [
                          0.5555555555555556,
                          "#d8576b"
                        ],
                        [
                          0.6666666666666666,
                          "#ed7953"
                        ],
                        [
                          0.7777777777777778,
                          "#fb9f3a"
                        ],
                        [
                          0.8888888888888888,
                          "#fdca26"
                        ],
                        [
                          1,
                          "#f0f921"
                        ]
                      ],
                      "type": "heatmapgl"
                    }
                  ],
                  "heatmap": [
                    {
                      "colorbar": {
                        "outlinewidth": 0,
                        "ticks": ""
                      },
                      "colorscale": [
                        [
                          0,
                          "#0d0887"
                        ],
                        [
                          0.1111111111111111,
                          "#46039f"
                        ],
                        [
                          0.2222222222222222,
                          "#7201a8"
                        ],
                        [
                          0.3333333333333333,
                          "#9c179e"
                        ],
                        [
                          0.4444444444444444,
                          "#bd3786"
                        ],
                        [
                          0.5555555555555556,
                          "#d8576b"
                        ],
                        [
                          0.6666666666666666,
                          "#ed7953"
                        ],
                        [
                          0.7777777777777778,
                          "#fb9f3a"
                        ],
                        [
                          0.8888888888888888,
                          "#fdca26"
                        ],
                        [
                          1,
                          "#f0f921"
                        ]
                      ],
                      "type": "heatmap"
                    }
                  ],
                  "histogram2dcontour": [
                    {
                      "colorbar": {
                        "outlinewidth": 0,
                        "ticks": ""
                      },
                      "colorscale": [
                        [
                          0,
                          "#0d0887"
                        ],
                        [
                          0.1111111111111111,
                          "#46039f"
                        ],
                        [
                          0.2222222222222222,
                          "#7201a8"
                        ],
                        [
                          0.3333333333333333,
                          "#9c179e"
                        ],
                        [
                          0.4444444444444444,
                          "#bd3786"
                        ],
                        [
                          0.5555555555555556,
                          "#d8576b"
                        ],
                        [
                          0.6666666666666666,
                          "#ed7953"
                        ],
                        [
                          0.7777777777777778,
                          "#fb9f3a"
                        ],
                        [
                          0.8888888888888888,
                          "#fdca26"
                        ],
                        [
                          1,
                          "#f0f921"
                        ]
                      ],
                      "type": "histogram2dcontour"
                    }
                  ],
                  "histogram2d": [
                    {
                      "colorbar": {
                        "outlinewidth": 0,
                        "ticks": ""
                      },
                      "colorscale": [
                        [
                          0,
                          "#0d0887"
                        ],
                        [
                          0.1111111111111111,
                          "#46039f"
                        ],
                        [
                          0.2222222222222222,
                          "#7201a8"
                        ],
                        [
                          0.3333333333333333,
                          "#9c179e"
                        ],
                        [
                          0.4444444444444444,
                          "#bd3786"
                        ],
                        [
                          0.5555555555555556,
                          "#d8576b"
                        ],
                        [
                          0.6666666666666666,
                          "#ed7953"
                        ],
                        [
                          0.7777777777777778,
                          "#fb9f3a"
                        ],
                        [
                          0.8888888888888888,
                          "#fdca26"
                        ],
                        [
                          1,
                          "#f0f921"
                        ]
                      ],
                      "type": "histogram2d"
                    }
                  ],
                  "histogram": [
                    {
                      "marker": {
                        "pattern": {
                          "fillmode": "overlay",
                          "size": 10,
                          "solidity": 0.2
                        }
                      },
                      "type": "histogram"
                    }
                  ],
                  "mesh3d": [
                    {
                      "colorbar": {
                        "outlinewidth": 0,
                        "ticks": ""
                      },
                      "type": "mesh3d"
                    }
                  ],
                  "parcoords": [
                    {
                      "line": {
                        "colorbar": {
                          "outlinewidth": 0,
                          "ticks": ""
                        }
                      },
                      "type": "parcoords"
                    }
                  ],
                  "pie": [
                    {
                      "automargin": true,
                      "type": "pie"
                    }
                  ],
                  "scatter3d": [
                    {
                      "line": {
                        "colorbar": {
                          "outlinewidth": 0,
                          "ticks": ""
                        }
                      },
                      "marker": {
                        "colorbar": {
                          "outlinewidth": 0,
                          "ticks": ""
                        }
                      },
                      "type": "scatter3d"
                    }
                  ],
                  "scattercarpet": [
                    {
                      "marker": {
                        "colorbar": {
                          "outlinewidth": 0,
                          "ticks": ""
                        }
                      },
                      "type": "scattercarpet"
                    }
                  ],
                  "scattergeo": [
                    {
                      "marker": {
                        "colorbar": {
                          "outlinewidth": 0,
                          "ticks": ""
                        }
                      },
                      "type": "scattergeo"
                    }
                  ],
                  "scattergl": [
                    {
                      "marker": {
                        "colorbar": {
                          "outlinewidth": 0,
                          "ticks": ""
                        }
                      },
                      "type": "scattergl"
                    }
                  ],
                  "scattermapbox": [
                    {
                      "marker": {
                        "colorbar": {
                          "outlinewidth": 0,
                          "ticks": ""
                        }
                      },
                      "type": "scattermapbox"
                    }
                  ],
                  "scatterpolargl": [
                    {
                      "marker": {
                        "colorbar": {
                          "outlinewidth": 0,
                          "ticks": ""
                        }
                      },
                      "type": "scatterpolargl"
                    }
                  ],
                  "scatterpolar": [
                    {
                      "marker": {
                        "colorbar": {
                          "outlinewidth": 0,
                          "ticks": ""
                        }
                      },
                      "type": "scatterpolar"
                    }
                  ],
                  "scatter": [
                    {
                      "fillpattern": {
                        "fillmode": "overlay",
                        "size": 10,
                        "solidity": 0.2
                      },
                      "type": "scatter"
                    }
                  ],
                  "scatterternary": [
                    {
                      "marker": {
                        "colorbar": {
                          "outlinewidth": 0,
                          "ticks": ""
                        }
                      },
                      "type": "scatterternary"
                    }
                  ],
                  "surface": [
                    {
                      "colorbar": {
                        "outlinewidth": 0,
                        "ticks": ""
                      },
                      "colorscale": [
                        [
                          0,
                          "#0d0887"
                        ],
                        [
                          0.1111111111111111,
                          "#46039f"
                        ],
                        [
                          0.2222222222222222,
                          "#7201a8"
                        ],
                        [
                          0.3333333333333333,
                          "#9c179e"
                        ],
                        [
                          0.4444444444444444,
                          "#bd3786"
                        ],
                        [
                          0.5555555555555556,
                          "#d8576b"
                        ],
                        [
                          0.6666666666666666,
                          "#ed7953"
                        ],
                        [
                          0.7777777777777778,
                          "#fb9f3a"
                        ],
                        [
                          0.8888888888888888,
                          "#fdca26"
                        ],
                        [
                          1,
                          "#f0f921"
                        ]
                      ],
                      "type": "surface"
                    }
                  ],
                  "table": [
                    {
                      "cells": {
                        "fill": {
                          "color": "#EBF0F8"
                        },
                        "line": {
                          "color": "white"
                        }
                      },
                      "header": {
                        "fill": {
                          "color": "#C8D4E3"
                        },
                        "line": {
                          "color": "white"
                        }
                      },
                      "type": "table"
                    }
                  ]
                },
                "layout": {
                  "annotationdefaults": {
                    "arrowcolor": "#2a3f5f",
                    "arrowhead": 0,
                    "arrowwidth": 1
                  },
                  "autotypenumbers": "strict",
                  "coloraxis": {
                    "colorbar": {
                      "outlinewidth": 0,
                      "ticks": ""
                    }
                  },
                  "colorscale": {
                    "diverging": [
                      [
                        0,
                        "#8e0152"
                      ],
                      [
                        0.1,
                        "#c51b7d"
                      ],
                      [
                        0.2,
                        "#de77ae"
                      ],
                      [
                        0.3,
                        "#f1b6da"
                      ],
                      [
                        0.4,
                        "#fde0ef"
                      ],
                      [
                        0.5,
                        "#f7f7f7"
                      ],
                      [
                        0.6,
                        "#e6f5d0"
                      ],
                      [
                        0.7,
                        "#b8e186"
                      ],
                      [
                        0.8,
                        "#7fbc41"
                      ],
                      [
                        0.9,
                        "#4d9221"
                      ],
                      [
                        1,
                        "#276419"
                      ]
                    ],
                    "sequential": [
                      [
                        0,
                        "#0d0887"
                      ],
                      [
                        0.1111111111111111,
                        "#46039f"
                      ],
                      [
                        0.2222222222222222,
                        "#7201a8"
                      ],
                      [
                        0.3333333333333333,
                        "#9c179e"
                      ],
                      [
                        0.4444444444444444,
                        "#bd3786"
                      ],
                      [
                        0.5555555555555556,
                        "#d8576b"
                      ],
                      [
                        0.6666666666666666,
                        "#ed7953"
                      ],
                      [
                        0.7777777777777778,
                        "#fb9f3a"
                      ],
                      [
                        0.8888888888888888,
                        "#fdca26"
                      ],
                      [
                        1,
                        "#f0f921"
                      ]
                    ],
                    "sequentialminus": [
                      [
                        0,
                        "#0d0887"
                      ],
                      [
                        0.1111111111111111,
                        "#46039f"
                      ],
                      [
                        0.2222222222222222,
                        "#7201a8"
                      ],
                      [
                        0.3333333333333333,
                        "#9c179e"
                      ],
                      [
                        0.4444444444444444,
                        "#bd3786"
                      ],
                      [
                        0.5555555555555556,
                        "#d8576b"
                      ],
                      [
                        0.6666666666666666,
                        "#ed7953"
                      ],
                      [
                        0.7777777777777778,
                        "#fb9f3a"
                      ],
                      [
                        0.8888888888888888,
                        "#fdca26"
                      ],
                      [
                        1,
                        "#f0f921"
                      ]
                    ]
                  },
                  "colorway": [
                    "#636efa",
                    "#EF553B",
                    "#00cc96",
                    "#ab63fa",
                    "#FFA15A",
                    "#19d3f3",
                    "#FF6692",
                    "#B6E880",
                    "#FF97FF",
                    "#FECB52"
                  ],
                  "font": {
                    "color": "#2a3f5f"
                  },
                  "geo": {
                    "bgcolor": "white",
                    "lakecolor": "white",
                    "landcolor": "#E5ECF6",
                    "showlakes": true,
                    "showland": true,
                    "subunitcolor": "white"
                  },
                  "hoverlabel": {
                    "align": "left"
                  },
                  "hovermode": "closest",
                  "mapbox": {
                    "style": "light"
                  },
                  "paper_bgcolor": "white",
                  "plot_bgcolor": "#E5ECF6",
                  "polar": {
                    "angularaxis": {
                      "gridcolor": "white",
                      "linecolor": "white",
                      "ticks": ""
                    },
                    "bgcolor": "#E5ECF6",
                    "radialaxis": {
                      "gridcolor": "white",
                      "linecolor": "white",
                      "ticks": ""
                    }
                  },
                  "scene": {
                    "xaxis": {
                      "backgroundcolor": "#E5ECF6",
                      "gridcolor": "white",
                      "gridwidth": 2,
                      "linecolor": "white",
                      "showbackground": true,
                      "ticks": "",
                      "zerolinecolor": "white"
                    },
                    "yaxis": {
                      "backgroundcolor": "#E5ECF6",
                      "gridcolor": "white",
                      "gridwidth": 2,
                      "linecolor": "white",
                      "showbackground": true,
                      "ticks": "",
                      "zerolinecolor": "white"
                    },
                    "zaxis": {
                      "backgroundcolor": "#E5ECF6",
                      "gridcolor": "white",
                      "gridwidth": 2,
                      "linecolor": "white",
                      "showbackground": true,
                      "ticks": "",
                      "zerolinecolor": "white"
                    }
                  },
                  "shapedefaults": {
                    "line": {
                      "color": "#2a3f5f"
                    }
                  },
                  "ternary": {
                    "aaxis": {
                      "gridcolor": "white",
                      "linecolor": "white",
                      "ticks": ""
                    },
                    "baxis": {
                      "gridcolor": "white",
                      "linecolor": "white",
                      "ticks": ""
                    },
                    "bgcolor": "#E5ECF6",
                    "caxis": {
                      "gridcolor": "white",
                      "linecolor": "white",
                      "ticks": ""
                    }
                  },
                  "title": {
                    "x": 0.05
                  },
                  "xaxis": {
                    "automargin": true,
                    "gridcolor": "white",
                    "linecolor": "white",
                    "ticks": "",
                    "title": {
                      "standoff": 15
                    },
                    "zerolinecolor": "white",
                    "zerolinewidth": 2
                  },
                  "yaxis": {
                    "automargin": true,
                    "gridcolor": "white",
                    "linecolor": "white",
                    "ticks": "",
                    "title": {
                      "standoff": 15
                    },
                    "zerolinecolor": "white",
                    "zerolinewidth": 2
                  }
                }
              },
              "title": {
                "text": "Test accuracy",
                "x": 0.5
              },
              "width": 1500,
              "xaxis": {
                "title": {
                  "text": "Epoch"
                }
              },
              "yaxis": {
                "type": "linear"
              }
            },
            "_model_module": "jupyterlab-plotly",
            "_model_module_version": "^5.24.1",
            "_model_name": "FigureModel",
            "_py2js_addTraces": {},
            "_py2js_animate": {},
            "_py2js_deleteTraces": {},
            "_py2js_moveTraces": {},
            "_py2js_relayout": {},
            "_py2js_removeLayoutProps": {},
            "_py2js_removeTraceProps": null,
            "_py2js_restyle": null,
            "_py2js_update": {},
            "_view_count": 1,
            "_view_module": "jupyterlab-plotly",
            "_view_module_version": "^5.24.1",
            "_view_name": "FigureView"
          }
        }
      }
    }
  },
  "nbformat": 4,
  "nbformat_minor": 0
}