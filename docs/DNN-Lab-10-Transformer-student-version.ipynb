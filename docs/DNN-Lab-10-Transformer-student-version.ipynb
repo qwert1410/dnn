{
  "cells": [
    {
      "cell_type": "markdown",
      "metadata": {
        "id": "view-in-github",
        "colab_type": "text"
      },
      "source": [
        "<a href=\"https://colab.research.google.com/github/qwert1410/dnn/blob/main/docs/DNN-Lab-10-Transformer-student-version.ipynb\" target=\"_parent\"><img src=\"https://colab.research.google.com/assets/colab-badge.svg\" alt=\"Open In Colab\"/></a>"
      ]
    },
    {
      "cell_type": "markdown",
      "metadata": {
        "id": "AEJMklE1irsf"
      },
      "source": [
        "# The Transformer\n",
        "In this lab scenario, you will implement causal attention for a Transformer Decoder model.\n",
        "Transformer architecture was introduced in the [Attention Is All You Need](https://arxiv.org/abs/1706.03762)\n",
        "and has dominated the field of language modeling.  \n",
        "Here we will go through different parts of the transformer architecture and explain each of them briefly.\n"
      ]
    },
    {
      "cell_type": "markdown",
      "metadata": {
        "id": "EzEmQCBairsk"
      },
      "source": [
        "## Transformer Overview"
      ]
    },
    {
      "cell_type": "markdown",
      "metadata": {
        "id": "ez_DVGV8irsk"
      },
      "source": [
        "### The input\n",
        "Transformer decoder models (such as LLaMa 3.1 and Mistral) are popular text-processing models.   \n",
        "One can distinguish two versions of such models: base and instruction-tuned.  \n",
        "The base models are usually transformers trained on predicting the continuation of a given text (for each prefix they output a probability distribution over the next text fragments).  \n",
        "In contrast, the instruction-tuned ones are base models that were additionally trained to follow instructions.  \n",
        "The text is presented to the transformer as a sequence of tokens.   \n",
        "Tokens are integers used to represent pieces of text.  \n",
        "To be more precise to convert text to tokens we first prepare a dictionary of common text fragments.   \n",
        "We usually want to have all possible letters in the dictionary so that all texts can be tokenized.   \n",
        "We then assign to each text piece from the dictionary an integer and use the dictionary to convert text into a sequence of tokens (integers).  \n",
        "The program that converts text into tokens is called a tokenizer.  \n",
        "\n",
        "In this lab scenario, we will use OpenLLaMAv2 tokenizer and HuggingFace library to tokenize text.   \n",
        "HuggingFace contains a vast collection of transformer model weights and implementations along with training and inference code.  "
      ]
    },
    {
      "cell_type": "code",
      "execution_count": 1,
      "metadata": {
        "id": "G7UzQrUGirsl",
        "outputId": "92c5ac72-5330-4977-e07d-fd4f831ce75e",
        "colab": {
          "base_uri": "https://localhost:8080/"
        }
      },
      "outputs": [
        {
          "output_type": "stream",
          "name": "stdout",
          "text": [
            "Collecting transformers==4.47.0\n",
            "  Downloading transformers-4.47.0-py3-none-any.whl.metadata (43 kB)\n",
            "\u001b[?25l     \u001b[90m━━━━━━━━━━━━━━━━━━━━━━━━━━━━━━━━━━━━━━━━\u001b[0m \u001b[32m0.0/43.5 kB\u001b[0m \u001b[31m?\u001b[0m eta \u001b[36m-:--:--\u001b[0m\r\u001b[2K     \u001b[90m━━━━━━━━━━━━━━━━━━━━━━━━━━━━━━━━━━━━━━━━\u001b[0m \u001b[32m43.5/43.5 kB\u001b[0m \u001b[31m939.2 kB/s\u001b[0m eta \u001b[36m0:00:00\u001b[0m\n",
            "\u001b[?25hRequirement already satisfied: filelock in /usr/local/lib/python3.11/dist-packages (from transformers==4.47.0) (3.17.0)\n",
            "Requirement already satisfied: huggingface-hub<1.0,>=0.24.0 in /usr/local/lib/python3.11/dist-packages (from transformers==4.47.0) (0.28.1)\n",
            "Requirement already satisfied: numpy>=1.17 in /usr/local/lib/python3.11/dist-packages (from transformers==4.47.0) (1.26.4)\n",
            "Requirement already satisfied: packaging>=20.0 in /usr/local/lib/python3.11/dist-packages (from transformers==4.47.0) (24.2)\n",
            "Requirement already satisfied: pyyaml>=5.1 in /usr/local/lib/python3.11/dist-packages (from transformers==4.47.0) (6.0.2)\n",
            "Requirement already satisfied: regex!=2019.12.17 in /usr/local/lib/python3.11/dist-packages (from transformers==4.47.0) (2024.11.6)\n",
            "Requirement already satisfied: requests in /usr/local/lib/python3.11/dist-packages (from transformers==4.47.0) (2.32.3)\n",
            "Requirement already satisfied: tokenizers<0.22,>=0.21 in /usr/local/lib/python3.11/dist-packages (from transformers==4.47.0) (0.21.0)\n",
            "Requirement already satisfied: safetensors>=0.4.1 in /usr/local/lib/python3.11/dist-packages (from transformers==4.47.0) (0.5.2)\n",
            "Requirement already satisfied: tqdm>=4.27 in /usr/local/lib/python3.11/dist-packages (from transformers==4.47.0) (4.67.1)\n",
            "Requirement already satisfied: fsspec>=2023.5.0 in /usr/local/lib/python3.11/dist-packages (from huggingface-hub<1.0,>=0.24.0->transformers==4.47.0) (2024.10.0)\n",
            "Requirement already satisfied: typing-extensions>=3.7.4.3 in /usr/local/lib/python3.11/dist-packages (from huggingface-hub<1.0,>=0.24.0->transformers==4.47.0) (4.12.2)\n",
            "Requirement already satisfied: charset-normalizer<4,>=2 in /usr/local/lib/python3.11/dist-packages (from requests->transformers==4.47.0) (3.4.1)\n",
            "Requirement already satisfied: idna<4,>=2.5 in /usr/local/lib/python3.11/dist-packages (from requests->transformers==4.47.0) (3.10)\n",
            "Requirement already satisfied: urllib3<3,>=1.21.1 in /usr/local/lib/python3.11/dist-packages (from requests->transformers==4.47.0) (2.3.0)\n",
            "Requirement already satisfied: certifi>=2017.4.17 in /usr/local/lib/python3.11/dist-packages (from requests->transformers==4.47.0) (2025.1.31)\n",
            "Downloading transformers-4.47.0-py3-none-any.whl (10.1 MB)\n",
            "\u001b[2K   \u001b[90m━━━━━━━━━━━━━━━━━━━━━━━━━━━━━━━━━━━━━━━━\u001b[0m \u001b[32m10.1/10.1 MB\u001b[0m \u001b[31m29.6 MB/s\u001b[0m eta \u001b[36m0:00:00\u001b[0m\n",
            "\u001b[?25hInstalling collected packages: transformers\n",
            "  Attempting uninstall: transformers\n",
            "    Found existing installation: transformers 4.48.2\n",
            "    Uninstalling transformers-4.48.2:\n",
            "      Successfully uninstalled transformers-4.48.2\n",
            "Successfully installed transformers-4.47.0\n",
            "Requirement already satisfied: sentencepiece in /usr/local/lib/python3.11/dist-packages (0.2.0)\n",
            "Requirement already satisfied: accelerate in /usr/local/lib/python3.11/dist-packages (1.3.0)\n",
            "Requirement already satisfied: numpy<3.0.0,>=1.17 in /usr/local/lib/python3.11/dist-packages (from accelerate) (1.26.4)\n",
            "Requirement already satisfied: packaging>=20.0 in /usr/local/lib/python3.11/dist-packages (from accelerate) (24.2)\n",
            "Requirement already satisfied: psutil in /usr/local/lib/python3.11/dist-packages (from accelerate) (5.9.5)\n",
            "Requirement already satisfied: pyyaml in /usr/local/lib/python3.11/dist-packages (from accelerate) (6.0.2)\n",
            "Requirement already satisfied: torch>=2.0.0 in /usr/local/lib/python3.11/dist-packages (from accelerate) (2.5.1+cu124)\n",
            "Requirement already satisfied: huggingface-hub>=0.21.0 in /usr/local/lib/python3.11/dist-packages (from accelerate) (0.28.1)\n",
            "Requirement already satisfied: safetensors>=0.4.3 in /usr/local/lib/python3.11/dist-packages (from accelerate) (0.5.2)\n",
            "Requirement already satisfied: filelock in /usr/local/lib/python3.11/dist-packages (from huggingface-hub>=0.21.0->accelerate) (3.17.0)\n",
            "Requirement already satisfied: fsspec>=2023.5.0 in /usr/local/lib/python3.11/dist-packages (from huggingface-hub>=0.21.0->accelerate) (2024.10.0)\n",
            "Requirement already satisfied: requests in /usr/local/lib/python3.11/dist-packages (from huggingface-hub>=0.21.0->accelerate) (2.32.3)\n",
            "Requirement already satisfied: tqdm>=4.42.1 in /usr/local/lib/python3.11/dist-packages (from huggingface-hub>=0.21.0->accelerate) (4.67.1)\n",
            "Requirement already satisfied: typing-extensions>=3.7.4.3 in /usr/local/lib/python3.11/dist-packages (from huggingface-hub>=0.21.0->accelerate) (4.12.2)\n",
            "Requirement already satisfied: networkx in /usr/local/lib/python3.11/dist-packages (from torch>=2.0.0->accelerate) (3.4.2)\n",
            "Requirement already satisfied: jinja2 in /usr/local/lib/python3.11/dist-packages (from torch>=2.0.0->accelerate) (3.1.5)\n",
            "Collecting nvidia-cuda-nvrtc-cu12==12.4.127 (from torch>=2.0.0->accelerate)\n",
            "  Downloading nvidia_cuda_nvrtc_cu12-12.4.127-py3-none-manylinux2014_x86_64.whl.metadata (1.5 kB)\n",
            "Collecting nvidia-cuda-runtime-cu12==12.4.127 (from torch>=2.0.0->accelerate)\n",
            "  Downloading nvidia_cuda_runtime_cu12-12.4.127-py3-none-manylinux2014_x86_64.whl.metadata (1.5 kB)\n",
            "Collecting nvidia-cuda-cupti-cu12==12.4.127 (from torch>=2.0.0->accelerate)\n",
            "  Downloading nvidia_cuda_cupti_cu12-12.4.127-py3-none-manylinux2014_x86_64.whl.metadata (1.6 kB)\n",
            "Collecting nvidia-cudnn-cu12==9.1.0.70 (from torch>=2.0.0->accelerate)\n",
            "  Downloading nvidia_cudnn_cu12-9.1.0.70-py3-none-manylinux2014_x86_64.whl.metadata (1.6 kB)\n",
            "Collecting nvidia-cublas-cu12==12.4.5.8 (from torch>=2.0.0->accelerate)\n",
            "  Downloading nvidia_cublas_cu12-12.4.5.8-py3-none-manylinux2014_x86_64.whl.metadata (1.5 kB)\n",
            "Collecting nvidia-cufft-cu12==11.2.1.3 (from torch>=2.0.0->accelerate)\n",
            "  Downloading nvidia_cufft_cu12-11.2.1.3-py3-none-manylinux2014_x86_64.whl.metadata (1.5 kB)\n",
            "Collecting nvidia-curand-cu12==10.3.5.147 (from torch>=2.0.0->accelerate)\n",
            "  Downloading nvidia_curand_cu12-10.3.5.147-py3-none-manylinux2014_x86_64.whl.metadata (1.5 kB)\n",
            "Collecting nvidia-cusolver-cu12==11.6.1.9 (from torch>=2.0.0->accelerate)\n",
            "  Downloading nvidia_cusolver_cu12-11.6.1.9-py3-none-manylinux2014_x86_64.whl.metadata (1.6 kB)\n",
            "Collecting nvidia-cusparse-cu12==12.3.1.170 (from torch>=2.0.0->accelerate)\n",
            "  Downloading nvidia_cusparse_cu12-12.3.1.170-py3-none-manylinux2014_x86_64.whl.metadata (1.6 kB)\n",
            "Requirement already satisfied: nvidia-nccl-cu12==2.21.5 in /usr/local/lib/python3.11/dist-packages (from torch>=2.0.0->accelerate) (2.21.5)\n",
            "Requirement already satisfied: nvidia-nvtx-cu12==12.4.127 in /usr/local/lib/python3.11/dist-packages (from torch>=2.0.0->accelerate) (12.4.127)\n",
            "Collecting nvidia-nvjitlink-cu12==12.4.127 (from torch>=2.0.0->accelerate)\n",
            "  Downloading nvidia_nvjitlink_cu12-12.4.127-py3-none-manylinux2014_x86_64.whl.metadata (1.5 kB)\n",
            "Requirement already satisfied: triton==3.1.0 in /usr/local/lib/python3.11/dist-packages (from torch>=2.0.0->accelerate) (3.1.0)\n",
            "Requirement already satisfied: sympy==1.13.1 in /usr/local/lib/python3.11/dist-packages (from torch>=2.0.0->accelerate) (1.13.1)\n",
            "Requirement already satisfied: mpmath<1.4,>=1.1.0 in /usr/local/lib/python3.11/dist-packages (from sympy==1.13.1->torch>=2.0.0->accelerate) (1.3.0)\n",
            "Requirement already satisfied: MarkupSafe>=2.0 in /usr/local/lib/python3.11/dist-packages (from jinja2->torch>=2.0.0->accelerate) (3.0.2)\n",
            "Requirement already satisfied: charset-normalizer<4,>=2 in /usr/local/lib/python3.11/dist-packages (from requests->huggingface-hub>=0.21.0->accelerate) (3.4.1)\n",
            "Requirement already satisfied: idna<4,>=2.5 in /usr/local/lib/python3.11/dist-packages (from requests->huggingface-hub>=0.21.0->accelerate) (3.10)\n",
            "Requirement already satisfied: urllib3<3,>=1.21.1 in /usr/local/lib/python3.11/dist-packages (from requests->huggingface-hub>=0.21.0->accelerate) (2.3.0)\n",
            "Requirement already satisfied: certifi>=2017.4.17 in /usr/local/lib/python3.11/dist-packages (from requests->huggingface-hub>=0.21.0->accelerate) (2025.1.31)\n",
            "Downloading nvidia_cublas_cu12-12.4.5.8-py3-none-manylinux2014_x86_64.whl (363.4 MB)\n",
            "\u001b[2K   \u001b[90m━━━━━━━━━━━━━━━━━━━━━━━━━━━━━━━━━━━━━━━━\u001b[0m \u001b[32m363.4/363.4 MB\u001b[0m \u001b[31m1.4 MB/s\u001b[0m eta \u001b[36m0:00:00\u001b[0m\n",
            "\u001b[?25hDownloading nvidia_cuda_cupti_cu12-12.4.127-py3-none-manylinux2014_x86_64.whl (13.8 MB)\n",
            "\u001b[2K   \u001b[90m━━━━━━━━━━━━━━━━━━━━━━━━━━━━━━━━━━━━━━━━\u001b[0m \u001b[32m13.8/13.8 MB\u001b[0m \u001b[31m34.0 MB/s\u001b[0m eta \u001b[36m0:00:00\u001b[0m\n",
            "\u001b[?25hDownloading nvidia_cuda_nvrtc_cu12-12.4.127-py3-none-manylinux2014_x86_64.whl (24.6 MB)\n",
            "\u001b[2K   \u001b[90m━━━━━━━━━━━━━━━━━━━━━━━━━━━━━━━━━━━━━━━━\u001b[0m \u001b[32m24.6/24.6 MB\u001b[0m \u001b[31m28.6 MB/s\u001b[0m eta \u001b[36m0:00:00\u001b[0m\n",
            "\u001b[?25hDownloading nvidia_cuda_runtime_cu12-12.4.127-py3-none-manylinux2014_x86_64.whl (883 kB)\n",
            "\u001b[2K   \u001b[90m━━━━━━━━━━━━━━━━━━━━━━━━━━━━━━━━━━━━━━━━\u001b[0m \u001b[32m883.7/883.7 kB\u001b[0m \u001b[31m30.5 MB/s\u001b[0m eta \u001b[36m0:00:00\u001b[0m\n",
            "\u001b[?25hDownloading nvidia_cudnn_cu12-9.1.0.70-py3-none-manylinux2014_x86_64.whl (664.8 MB)\n",
            "\u001b[2K   \u001b[90m━━━━━━━━━━━━━━━━━━━━━━━━━━━━━━━━━━━━━━━━\u001b[0m \u001b[32m664.8/664.8 MB\u001b[0m \u001b[31m2.8 MB/s\u001b[0m eta \u001b[36m0:00:00\u001b[0m\n",
            "\u001b[?25hDownloading nvidia_cufft_cu12-11.2.1.3-py3-none-manylinux2014_x86_64.whl (211.5 MB)\n",
            "\u001b[2K   \u001b[90m━━━━━━━━━━━━━━━━━━━━━━━━━━━━━━━━━━━━━━━━\u001b[0m \u001b[32m211.5/211.5 MB\u001b[0m \u001b[31m2.2 MB/s\u001b[0m eta \u001b[36m0:00:00\u001b[0m\n",
            "\u001b[?25hDownloading nvidia_curand_cu12-10.3.5.147-py3-none-manylinux2014_x86_64.whl (56.3 MB)\n",
            "\u001b[2K   \u001b[90m━━━━━━━━━━━━━━━━━━━━━━━━━━━━━━━━━━━━━━━━\u001b[0m \u001b[32m56.3/56.3 MB\u001b[0m \u001b[31m14.0 MB/s\u001b[0m eta \u001b[36m0:00:00\u001b[0m\n",
            "\u001b[?25hDownloading nvidia_cusolver_cu12-11.6.1.9-py3-none-manylinux2014_x86_64.whl (127.9 MB)\n",
            "\u001b[2K   \u001b[90m━━━━━━━━━━━━━━━━━━━━━━━━━━━━━━━━━━━━━━━━\u001b[0m \u001b[32m127.9/127.9 MB\u001b[0m \u001b[31m7.6 MB/s\u001b[0m eta \u001b[36m0:00:00\u001b[0m\n",
            "\u001b[?25hDownloading nvidia_cusparse_cu12-12.3.1.170-py3-none-manylinux2014_x86_64.whl (207.5 MB)\n",
            "\u001b[2K   \u001b[90m━━━━━━━━━━━━━━━━━━━━━━━━━━━━━━━━━━━━━━━━\u001b[0m \u001b[32m207.5/207.5 MB\u001b[0m \u001b[31m5.9 MB/s\u001b[0m eta \u001b[36m0:00:00\u001b[0m\n",
            "\u001b[?25hDownloading nvidia_nvjitlink_cu12-12.4.127-py3-none-manylinux2014_x86_64.whl (21.1 MB)\n",
            "\u001b[2K   \u001b[90m━━━━━━━━━━━━━━━━━━━━━━━━━━━━━━━━━━━━━━━━\u001b[0m \u001b[32m21.1/21.1 MB\u001b[0m \u001b[31m55.3 MB/s\u001b[0m eta \u001b[36m0:00:00\u001b[0m\n",
            "\u001b[?25hInstalling collected packages: nvidia-nvjitlink-cu12, nvidia-curand-cu12, nvidia-cufft-cu12, nvidia-cuda-runtime-cu12, nvidia-cuda-nvrtc-cu12, nvidia-cuda-cupti-cu12, nvidia-cublas-cu12, nvidia-cusparse-cu12, nvidia-cudnn-cu12, nvidia-cusolver-cu12\n",
            "  Attempting uninstall: nvidia-nvjitlink-cu12\n",
            "    Found existing installation: nvidia-nvjitlink-cu12 12.5.82\n",
            "    Uninstalling nvidia-nvjitlink-cu12-12.5.82:\n",
            "      Successfully uninstalled nvidia-nvjitlink-cu12-12.5.82\n",
            "  Attempting uninstall: nvidia-curand-cu12\n",
            "    Found existing installation: nvidia-curand-cu12 10.3.6.82\n",
            "    Uninstalling nvidia-curand-cu12-10.3.6.82:\n",
            "      Successfully uninstalled nvidia-curand-cu12-10.3.6.82\n",
            "  Attempting uninstall: nvidia-cufft-cu12\n",
            "    Found existing installation: nvidia-cufft-cu12 11.2.3.61\n",
            "    Uninstalling nvidia-cufft-cu12-11.2.3.61:\n",
            "      Successfully uninstalled nvidia-cufft-cu12-11.2.3.61\n",
            "  Attempting uninstall: nvidia-cuda-runtime-cu12\n",
            "    Found existing installation: nvidia-cuda-runtime-cu12 12.5.82\n",
            "    Uninstalling nvidia-cuda-runtime-cu12-12.5.82:\n",
            "      Successfully uninstalled nvidia-cuda-runtime-cu12-12.5.82\n",
            "  Attempting uninstall: nvidia-cuda-nvrtc-cu12\n",
            "    Found existing installation: nvidia-cuda-nvrtc-cu12 12.5.82\n",
            "    Uninstalling nvidia-cuda-nvrtc-cu12-12.5.82:\n",
            "      Successfully uninstalled nvidia-cuda-nvrtc-cu12-12.5.82\n",
            "  Attempting uninstall: nvidia-cuda-cupti-cu12\n",
            "    Found existing installation: nvidia-cuda-cupti-cu12 12.5.82\n",
            "    Uninstalling nvidia-cuda-cupti-cu12-12.5.82:\n",
            "      Successfully uninstalled nvidia-cuda-cupti-cu12-12.5.82\n",
            "  Attempting uninstall: nvidia-cublas-cu12\n",
            "    Found existing installation: nvidia-cublas-cu12 12.5.3.2\n",
            "    Uninstalling nvidia-cublas-cu12-12.5.3.2:\n",
            "      Successfully uninstalled nvidia-cublas-cu12-12.5.3.2\n",
            "  Attempting uninstall: nvidia-cusparse-cu12\n",
            "    Found existing installation: nvidia-cusparse-cu12 12.5.1.3\n",
            "    Uninstalling nvidia-cusparse-cu12-12.5.1.3:\n",
            "      Successfully uninstalled nvidia-cusparse-cu12-12.5.1.3\n",
            "  Attempting uninstall: nvidia-cudnn-cu12\n",
            "    Found existing installation: nvidia-cudnn-cu12 9.3.0.75\n",
            "    Uninstalling nvidia-cudnn-cu12-9.3.0.75:\n",
            "      Successfully uninstalled nvidia-cudnn-cu12-9.3.0.75\n",
            "  Attempting uninstall: nvidia-cusolver-cu12\n",
            "    Found existing installation: nvidia-cusolver-cu12 11.6.3.83\n",
            "    Uninstalling nvidia-cusolver-cu12-11.6.3.83:\n",
            "      Successfully uninstalled nvidia-cusolver-cu12-11.6.3.83\n",
            "Successfully installed nvidia-cublas-cu12-12.4.5.8 nvidia-cuda-cupti-cu12-12.4.127 nvidia-cuda-nvrtc-cu12-12.4.127 nvidia-cuda-runtime-cu12-12.4.127 nvidia-cudnn-cu12-9.1.0.70 nvidia-cufft-cu12-11.2.1.3 nvidia-curand-cu12-10.3.5.147 nvidia-cusolver-cu12-11.6.1.9 nvidia-cusparse-cu12-12.3.1.170 nvidia-nvjitlink-cu12-12.4.127\n"
          ]
        }
      ],
      "source": [
        "!pip3 install transformers==4.47.0\n",
        "!pip3 install sentencepiece\n",
        "!pip3 install accelerate"
      ]
    },
    {
      "cell_type": "code",
      "execution_count": 1,
      "metadata": {
        "id": "7EZjh2kGirsn",
        "outputId": "50bf0418-9743-4f4b-aa8e-39c5c6314eb4",
        "colab": {
          "base_uri": "https://localhost:8080/"
        }
      },
      "outputs": [
        {
          "output_type": "stream",
          "name": "stderr",
          "text": [
            "/usr/local/lib/python3.11/dist-packages/huggingface_hub/utils/_auth.py:94: UserWarning: \n",
            "The secret `HF_TOKEN` does not exist in your Colab secrets.\n",
            "To authenticate with the Hugging Face Hub, create a token in your settings tab (https://huggingface.co/settings/tokens), set it as secret in your Google Colab and restart your session.\n",
            "You will be able to reuse this secret in all of your notebooks.\n",
            "Please note that authentication is recommended but still optional to access public models or datasets.\n",
            "  warnings.warn(\n",
            "You are using the default legacy behaviour of the <class 'transformers.models.llama.tokenization_llama.LlamaTokenizer'>. This is expected, and simply means that the `legacy` (previous) behavior will be used so nothing changes for you. If you want to use the new behaviour, set `legacy=False`. This should only be set if you understand what it means, and thoroughly read the reason why this was added as explained in https://github.com/huggingface/transformers/pull/24565 - if you loaded a llama tokenizer from a GGUF file you can ignore this message\n"
          ]
        },
        {
          "output_type": "stream",
          "name": "stdout",
          "text": [
            "{'input_ids': [1, 660, 325, 371, 1938, 1880, 347, 389, 477, 8206, 753], 'attention_mask': [1, 1, 1, 1, 1, 1, 1, 1, 1, 1, 1]}\n",
            "['<s>', 'This', 'is', 'an', 'example', 'text', 'that', 'we', 'will', 'token', 'ize']\n"
          ]
        }
      ],
      "source": [
        "import torch\n",
        "from transformers import LlamaTokenizer, LlamaForCausalLM\n",
        "from tqdm import tqdm\n",
        "\n",
        "tokenizer = LlamaTokenizer.from_pretrained(\"openlm-research/open_llama_3b_v2\")\n",
        "\n",
        "\n",
        "text = \"This is an example text that we will tokenize\"\n",
        "tokens_mask = tokenizer(text)\n",
        "print(tokens_mask)\n",
        "\n",
        "detokenized = tokenizer.batch_decode(tokens_mask[\"input_ids\"])\n",
        "print(detokenized)"
      ]
    },
    {
      "cell_type": "markdown",
      "metadata": {
        "id": "yfiKj4GNirso"
      },
      "source": [
        "After tokenization the the HuggingFace tokenizer returns a sequence of tokens (`input_ids`) and information on whether the model should look at the ith element of the input (`attention_mask`).  \n",
        "The other part is useful when we want to tokenize several sequences into one batch of elements of the same length. Then the attention mask can be used to hide the padding from the model.  \n",
        "Consider the example below. Note how the second text is padded to match the length of the first one."
      ]
    },
    {
      "cell_type": "code",
      "execution_count": 3,
      "metadata": {
        "id": "NoOYgviBirso",
        "outputId": "5055833a-b32b-4401-bda8-c963f645b12f",
        "colab": {
          "base_uri": "https://localhost:8080/"
        }
      },
      "outputs": [
        {
          "output_type": "stream",
          "name": "stdout",
          "text": [
            "{'input_ids': tensor([[   1,  660,  325,  371, 1938, 1880,  347,  389,  477, 8206,  753],\n",
            "        [   1, 8479,    2,    2,    2,    2,    2,    2,    2,    2,    2]]), 'attention_mask': tensor([[1, 1, 1, 1, 1, 1, 1, 1, 1, 1, 1],\n",
            "        [1, 1, 0, 0, 0, 0, 0, 0, 0, 0, 0]])}\n",
            "['<s>This is an example text that we will tokenize', '<s> Hello</s></s></s></s></s></s></s></s></s>']\n"
          ]
        }
      ],
      "source": [
        "text = [\"This is an example text that we will tokenize\", \"Hello\"]\n",
        "# We set the padding token to be the same as the end-of-sequence token (eos)\n",
        "# eos token (</s> in this case) is used to mark the end of the sequence in training and can also be used by a model to finish its response\n",
        "# bos token (here <s>) is used to mark the beginning of the input\n",
        "tokenizer.pad_token = tokenizer.eos_token\n",
        "\n",
        "tokens_mask = tokenizer(text, return_tensors=\"pt\", padding=True, truncation=False)\n",
        "print(tokens_mask)\n",
        "\n",
        "detokenized = tokenizer.batch_decode(tokens_mask[\"input_ids\"])\n",
        "print(detokenized)"
      ]
    },
    {
      "cell_type": "markdown",
      "metadata": {
        "id": "8LMw9_m1irsp"
      },
      "source": [
        "### The encoding\n",
        "The input to the model is a batch of token sequences of the following shape   \n",
        "`(batch, seq_len)`\n",
        "where\n",
        "* `batch` is the size of the batch\n",
        "* `seq_len` is the length of the longest input sequence inside the batch (attention mask is used to handle the cases when sequences have different lengths)\n",
        "\n",
        "Initially, the model assigns to each element of each sequence an embedding vector.  \n",
        "To be more precise inside the model there is a matrix of shape `(num_dictionary_elements, hidden_size)` that is used to assign to each token from the dictionary a vector of length `hidden_size`.  \n",
        "After the encoding step, we pass a tensor of shape `(batch, seq_len, hidden_size)` through the remaining layers of the model."
      ]
    },
    {
      "cell_type": "markdown",
      "metadata": {
        "id": "0ydvcqcwirsp"
      },
      "source": [
        "### Transformer layer\n",
        "The internal parts of the transformer are grouped into transformer layers.  \n",
        "Usually, each layer consists of layer norm, attention, layer norm, and a feed-forward layer.  \n",
        "To be more precise the computation progresses roughly as presented below:\n",
        "```python3\n",
        "def transformer_layer(input, layer_norm_attn, attention, layer_norm_ff, feed_forward):\n",
        " x = attention(layer_norm_attn(x)) + x\n",
        " x = feed_forward(layer_norm_ff(x)) + x\n",
        " return x\n",
        "```\n",
        "Where:  \n",
        "* `feed_forward` - This can be a linear projection followed by activation and another linear projection. For an input of shape `(batch, seq_len, hidden_size)` it treats the first two dimensions as batch and operates on the `hidden_size` dimension.\n",
        "* `layer_norm` - Replaced by [RMSNorm](https://pytorch.org/docs/stable/generated/torch.nn.modules.normalization.RMSNorm.html) in LLaMa models. Similarly as `feed_forward` it operates only on the `hidden_size` dimension, treating other dimensions as a batch.\n",
        "* `attention` - Causal multi-head attention that you will implement in further parts of this notebook. Let `t` be an input tensor of shape `(batch, seq_len, hidden_size)`. Attention will output a tensor `d` of the same shape with the following property:\n",
        " Calculation of `d[b, s, h]` depends only on values from `t[b, s', h']` such that  `s' <= s`. In other words, calculation is done independently per batch entry and dependency is causal (the past can influence the future but the future cannot influence the past)."
      ]
    },
    {
      "cell_type": "markdown",
      "metadata": {
        "id": "0KYmjdj6irsq"
      },
      "source": [
        "### LM head\n",
        "In the end, a linear projection is used to create weights for each element of the input dictionary.\n",
        "To be more precise we take a tensor of shape `(batch, seq_len, hidden_dim)` and use norm + a linear projection from `hidden_dim` to `vocab_size`, in order to change it into tensor of shape `(batch, seq_len, vocab_size)`.  \n",
        "Then we apply softmax over the last dimension (`vocab_size`) to get probability distribution over the next token in the sequence given the previous tokens.  \n",
        "We can do this as all operations in our model were either done independently for each element (`layer_norm`, `feed_forward`, ...) or were causal (`attention`).  \n",
        "The training loss of our model will be cross entropy over the next token prediction.  \n",
        "That is we input a batch of token sequences into our model, the model outputs for each input token the probability distribution over the next token, and as we know the next token we use it as a ground truth label for the calculation of the model loss."
      ]
    },
    {
      "cell_type": "markdown",
      "metadata": {
        "id": "XjKdHzJ-irsq"
      },
      "source": [
        "### Example\n",
        "Below we show the steps described above using OpenLLaMAv2 3B."
      ]
    },
    {
      "cell_type": "code",
      "execution_count": 4,
      "metadata": {
        "id": "RYnAr5oOirsr",
        "outputId": "7b09938d-cf7f-4d46-c9f2-82a6859f654e",
        "colab": {
          "base_uri": "https://localhost:8080/"
        }
      },
      "outputs": [
        {
          "output_type": "stream",
          "name": "stdout",
          "text": [
            "{'input_ids': tensor([[    1, 29500, 29536,   835, 29500, 29574,   419, 29500]]), 'attention_mask': tensor([[1, 1, 1, 1, 1, 1, 1, 1]])}\n"
          ]
        }
      ],
      "source": [
        "## Input tokenization\n",
        "\n",
        "tokenizer = LlamaTokenizer.from_pretrained(\"openlm-research/open_llama_3b_v2\")\n",
        "text = [\"2 + 7 = \"]\n",
        "\n",
        "tokens_mask = tokenizer(text, return_tensors=\"pt\")\n",
        "tokens = tokens_mask[\"input_ids\"]\n",
        "attention_mask = tokens_mask[\"attention_mask\"]\n",
        "print(tokens_mask)"
      ]
    },
    {
      "cell_type": "code",
      "execution_count": 5,
      "metadata": {
        "id": "uVB-rwOzirst",
        "outputId": "71de45a0-46d8-421e-91b1-c1bea0503673",
        "colab": {
          "base_uri": "https://localhost:8080/",
          "height": 113,
          "referenced_widgets": [
            "53beabb5537347fba5d03a00d8e2aa97",
            "a3e2235a560f4da5a965287ccc5de4ba",
            "96ea156fb6744b6487e97aaa74e791da",
            "263f72c601b24a1a9927d5aa6a5c4f0f",
            "4e71e8daff1949398ac1bc823f5bd5b2",
            "9c72c8fbe6454325969cdc01641d81a2",
            "ed085fdcea5b4803b7fea8b7574cb909",
            "7898346d55d84b6c88f9836700bfeef0",
            "c64996da99ba48a4b1d9e0e52026273a",
            "2ecb308519dd4bae9d3a943551e6414c",
            "9661640345bc4db59abcf0ff1c7e8e1b",
            "508a5dcf000a48aebcd5752a9f4928fb",
            "b8ab630ae02c43be812b602d8799f9ad",
            "cd7d433581ff49c69c0fd49b32d137e5",
            "af07089fa4554c7f8af4c84cfcf23a47",
            "4794a008d1e14c139bbbac45add16455",
            "9b75a795520c4ddf909b4061256e568d",
            "cd15d3368e2b494fb9bc16f465e23116",
            "9a0fcba2c49b4747a201ab2584035d7a",
            "9bcdf7ef986e46289de460a8935ac1a3",
            "ad64328d02d949aabfcc3fe25276de6c",
            "e1609f8993d04b02b8f27714c6086732",
            "f490b6d71a7f4c388992c485f1009a4b",
            "ab55700568734b11a457e931a81666fa",
            "17e35b6f897c416e8ea7011dc0ca3322",
            "66360d3ab73a469cb3ed5adb0a0e0348",
            "6c594b26de674781a295b08c6ac36dd8",
            "4a6640b250a4409ebcba004e3445ed5b",
            "b36c2da49318429aa5ed5738d2fa050b",
            "5b6c2021a6834d1aa45b355f22c03282",
            "fd2baed3fc4040ce89b6a04bdf1d462f",
            "ed0a6077533d46a49e13dfdf0c028561",
            "d892acad29ea47319b6e697ea0ae5137"
          ]
        }
      },
      "outputs": [
        {
          "output_type": "display_data",
          "data": {
            "text/plain": [
              "config.json:   0%|          | 0.00/506 [00:00<?, ?B/s]"
            ],
            "application/vnd.jupyter.widget-view+json": {
              "version_major": 2,
              "version_minor": 0,
              "model_id": "53beabb5537347fba5d03a00d8e2aa97"
            }
          },
          "metadata": {}
        },
        {
          "output_type": "display_data",
          "data": {
            "text/plain": [
              "pytorch_model.bin:   0%|          | 0.00/6.85G [00:00<?, ?B/s]"
            ],
            "application/vnd.jupyter.widget-view+json": {
              "version_major": 2,
              "version_minor": 0,
              "model_id": "508a5dcf000a48aebcd5752a9f4928fb"
            }
          },
          "metadata": {}
        },
        {
          "output_type": "display_data",
          "data": {
            "text/plain": [
              "generation_config.json:   0%|          | 0.00/137 [00:00<?, ?B/s]"
            ],
            "application/vnd.jupyter.widget-view+json": {
              "version_major": 2,
              "version_minor": 0,
              "model_id": "f490b6d71a7f4c388992c485f1009a4b"
            }
          },
          "metadata": {}
        }
      ],
      "source": [
        "## load model from huggingface\n",
        "\n",
        "device = (\n",
        "    torch.device(\"cuda\") if torch.cuda.is_available() else torch.device(\"cpu\")\n",
        ")\n",
        "\n",
        "# takes around 6.85GB in bf16\n",
        "model = LlamaForCausalLM.from_pretrained(\n",
        "    \"openlm-research/open_llama_3b_v2\", torch_dtype=torch.bfloat16, device_map=device\n",
        ")\n",
        "\n",
        "# we disable gradient calculatoin as otherwise the memory usage can explode\n",
        "for p in model.parameters():\n",
        "    p.requires_grad = False"
      ]
    },
    {
      "cell_type": "code",
      "execution_count": 6,
      "metadata": {
        "id": "ZfniDcbAirsu",
        "outputId": "f8aee004-1635-4450-e814-a2b0d9f69753",
        "colab": {
          "base_uri": "https://localhost:8080/"
        }
      },
      "outputs": [
        {
          "output_type": "stream",
          "name": "stdout",
          "text": [
            "tokens.shape torch.Size([1, 8]) embedded_tokens.shape torch.Size([1, 8, 3200])\n"
          ]
        }
      ],
      "source": [
        "## input encoding\n",
        "embedded_tokens = model.model.embed_tokens(tokens.to(device))\n",
        "print(f\"tokens.shape {tokens.shape} embedded_tokens.shape {embedded_tokens.shape}\")"
      ]
    },
    {
      "cell_type": "code",
      "execution_count": 7,
      "metadata": {
        "id": "QS3ezO4Qirsu",
        "outputId": "f5a5e081-91d0-40da-99ba-c876e9f601ad",
        "colab": {
          "base_uri": "https://localhost:8080/"
        }
      },
      "outputs": [
        {
          "output_type": "stream",
          "name": "stderr",
          "text": [
            "100%|██████████| 26/26 [00:27<00:00,  1.04s/it]\n"
          ]
        },
        {
          "output_type": "stream",
          "name": "stdout",
          "text": [
            "tensor(29567)\n",
            "9\n"
          ]
        }
      ],
      "source": [
        "## passing through the layers of the model\n",
        "\n",
        "hidden_states = embedded_tokens\n",
        "batch, seq_len, hidden_size = hidden_states.shape\n",
        "\n",
        "# additional tensor to tell the model positions of each token\n",
        "position_ids = torch.arange(seq_len, device=hidden_states.device)[None, ...]\n",
        "\n",
        "# mask used to make attention causal\n",
        "causal_mask = model.model._update_causal_mask(\n",
        "    attention_mask, hidden_states, position_ids, None, False\n",
        ")\n",
        "\n",
        "# additional encoding of positions within the sequence, used by attention\n",
        "position_embeddings = model.model.rotary_emb(hidden_states, position_ids)\n",
        "\n",
        "\n",
        "for l in tqdm(model.model.layers):\n",
        "    hidden_states = l(\n",
        "        hidden_states,\n",
        "        attention_mask=causal_mask,\n",
        "        position_ids=position_ids,\n",
        "        past_key_value=None,  # can be used to continue generation\n",
        "        output_attentions=False,\n",
        "        use_cache=False,\n",
        "        cache_position=position_ids,\n",
        "        position_embeddings=position_embeddings,\n",
        "    )[0]\n",
        "\n",
        "# apply norm before final linear\n",
        "hidden_states = model.model.norm(hidden_states)\n",
        "hidden_states = model.lm_head(hidden_states)\n",
        "hidden_states = torch.nn.functional.softmax(hidden_states, dim=-1)\n",
        "next_token = torch.argmax(hidden_states[0, -1])\n",
        "print(next_token)\n",
        "print(tokenizer.decode(next_token))"
      ]
    },
    {
      "cell_type": "code",
      "execution_count": 8,
      "metadata": {
        "id": "ql6DdWpZirsu",
        "outputId": "4c3f6e64-b23e-4127-aa27-144ebc343afc",
        "colab": {
          "base_uri": "https://localhost:8080/"
        }
      },
      "outputs": [
        {
          "output_type": "stream",
          "name": "stdout",
          "text": [
            "['<s>The largest animal on earth is the hippopotamus.']\n"
          ]
        }
      ],
      "source": [
        "# Using HuggingFace Generate\n",
        "\n",
        "\n",
        "text = \"The largest animal on earth is\"\n",
        "tokens_mask = tokenizer(text, return_tensors=\"pt\")\n",
        "output = model.generate(\n",
        "    inputs=tokens_mask[\"input_ids\"].to(device),\n",
        "    max_new_tokens=8,\n",
        "    num_beams=1,\n",
        "    do_sample=True, # sample from the distribution created by softmax\n",
        "    temperature=0.7, # divide pre softmax score by this value\n",
        "    top_p=0.9 # cut out improbable tokens from sampling\n",
        ")\n",
        "\n",
        "print(tokenizer.batch_decode(output))\n"
      ]
    },
    {
      "cell_type": "markdown",
      "metadata": {
        "id": "Cd15n4Qsirsu"
      },
      "source": [
        "## Causal Attention Implementation\n",
        "\n",
        "Your task is to finish the implementation of the attention mechanism below. In case of problems, you can refer to the original implementation that can be found [here](https://github.com/huggingface/transformers/blob/7f95372c6267d3163fd2aa74aeff9d84ddb6cc35/src/transformers/models/llama/modeling_llama.py#L258).\n",
        "To be more precise. You are given query and key tensors with positional encoding already applied. You also get the value tensors.\n",
        "Each of those tensors is of shape `(batch, seq_len, num_heads, head_size)`.  \n",
        "Your task is to compute for each head a scaled dot product between each query and each key that is either at the same position as the query or precedes the query in the sequence.\n",
        "To be more precise you want to calculate a tensor `a` of shape `(batch, num_heads, seq_len, seq_len)` where  \n",
        "$$\n",
        "    a[b, h, q, k]=\n",
        "\\begin{cases}\n",
        "    \\sum_{d}{\\mathrm{query}[b, q, h, d] * \\mathrm{key}[b, k, h, d]} / \\sqrt{\\mathrm{head\\_size}}, & if k \\leq q\\\\\n",
        "     -\\mathrm{large\\_number},              & \\text{otherwise}\n",
        "\\end{cases}\n",
        "$$\n",
        "\n",
        "Then you should calculate the softmax over the last dimension of `a` creating `p`.  \n",
        "\n",
        "$$p = \\mathrm{SoftMax}(a)$$\n",
        "Then you should calculate\n",
        "$$v[b, q, h, d] = \\sum_{k}{a[b, h, q, k] * \\mathrm{value}[b, k, h, d]}$$  \n",
        "That is for each query you should gather the `value`s using the probability distribution defined by `p`.  \n",
        "In the end, you should reshape `v` to `(batch, seq_len, num_heads * head_size)` and apply a linear projection `output_projection`.  \n",
        "\n",
        "As you do not get the attention mask you can assume that it consists of ones only and that the attention is causal.\n",
        "For simplicity, you can also assume that the number of queries is equal to the number of keys.  \n",
        "This is not always true, for example when we run the generate from HuggingFace transformers library, then instead of computing the whole attention each time, the keys for previous tokens are cached and we create queries only for new tokens.\n",
        "\n"
      ]
    },
    {
      "cell_type": "code",
      "execution_count": 9,
      "metadata": {
        "id": "QcULz0-Mirsu"
      },
      "outputs": [],
      "source": [
        "import torch.nn.functional as F\n",
        "\n",
        "def attention_forward(\n",
        "    query: torch.Tensor,\n",
        "    key: torch.Tensor,\n",
        "    value: torch.Tensor,\n",
        "    output_projection: torch.nn.Linear,\n",
        ") -> torch.Tensor:\n",
        "    batch, q_seq_len, num_heads, head_dim = query.shape\n",
        "    batch, k_seq_len, num_heads, head_dim = key.shape\n",
        "\n",
        "    assert value.shape == key.shape\n",
        "\n",
        "    assert q_seq_len <= k_seq_len\n",
        "    assert query.shape[0] == key.shape[0]\n",
        "    assert query.shape[2:] == key.shape[2:]\n",
        "\n",
        "    # TODO {\n",
        "    scale_factor = head_dim ** 0.5\n",
        "    scores = torch.einsum(\"bqnh,bknh->bqkn\", query, key) / scale_factor  # (batch, q_seq_len, k_seq_len, num_heads)\n",
        "\n",
        "    # Create causal mask (upper triangular, preventing attending to future tokens)\n",
        "    mask = torch.triu(torch.ones(q_seq_len, k_seq_len, device=query.device), diagonal=1)\n",
        "    scores.masked_fill_(mask.bool(), -1e9)  # Set masked positions to a large negative number\n",
        "\n",
        "    # Apply softmax\n",
        "    attention_weights = F.softmax(scores, dim=2)\n",
        "\n",
        "    # Apply attention weights to value\n",
        "    attended_values = torch.einsum(\"bqkn,bknh->bqnh\", attention_weights, value)  # (batch, q_seq_len, num_heads, head_dim)\n",
        "\n",
        "    # Reshape and apply output projection\n",
        "    v = attended_values.reshape(batch, q_seq_len, num_heads * head_dim)\n",
        "    v = output_projection(v)\n",
        "    # TODO }\n",
        "    assert v.shape == (batch, q_seq_len, num_heads * head_dim)\n",
        "    return v"
      ]
    },
    {
      "cell_type": "markdown",
      "metadata": {
        "id": "_IxPcHCxirsv"
      },
      "source": [
        "### Integration with OpenLLaMA\n",
        "The code below integrades your solution from above with OpenLLaMA."
      ]
    },
    {
      "cell_type": "code",
      "execution_count": 10,
      "metadata": {
        "id": "YWPCpRyOirsv"
      },
      "outputs": [],
      "source": [
        "from typing import Optional, Tuple\n",
        "\n",
        "\n",
        "# Copied from  https://github.com/huggingface/transformers/blob/7f95372c6267d3163fd2aa74aeff9d84ddb6cc35/src/transformers/models/llama/modeling_llama.py\n",
        "def rotate_half(x):\n",
        "    \"\"\"Rotates half the hidden dims of the input.\"\"\"\n",
        "    x1 = x[..., : x.shape[-1] // 2]\n",
        "    x2 = x[..., x.shape[-1] // 2 :]\n",
        "    return torch.cat((-x2, x1), dim=-1)\n",
        "\n",
        "\n",
        "# Copied from  https://github.com/huggingface/transformers/blob/7f95372c6267d3163fd2aa74aeff9d84ddb6cc35/src/transformers/models/llama/modeling_llama.py\n",
        "def apply_rotary_pos_emb(q, k, cos, sin, position_ids=None, unsqueeze_dim=1):\n",
        "    \"\"\"Applies Rotary Position Embedding to the query and key tensors.\n",
        "\n",
        "    Args:\n",
        "        q (`torch.Tensor`): The query tensor.\n",
        "        k (`torch.Tensor`): The key tensor.\n",
        "        cos (`torch.Tensor`): The cosine part of the rotary embedding.\n",
        "        sin (`torch.Tensor`): The sine part of the rotary embedding.\n",
        "        position_ids (`torch.Tensor`, *optional*):\n",
        "            Deprecated and unused.\n",
        "        unsqueeze_dim (`int`, *optional*, defaults to 1):\n",
        "            The 'unsqueeze_dim' argument specifies the dimension along which to unsqueeze cos[position_ids] and\n",
        "            sin[position_ids] so that they can be properly broadcasted to the dimensions of q and k. For example, note\n",
        "            that cos[position_ids] and sin[position_ids] have the shape [batch_size, seq_len, head_dim]. Then, if q and\n",
        "            k have the shape [batch_size, heads, seq_len, head_dim], then setting unsqueeze_dim=1 makes\n",
        "            cos[position_ids] and sin[position_ids] broadcastable to the shapes of q and k. Similarly, if q and k have\n",
        "            the shape [batch_size, seq_len, heads, head_dim], then set unsqueeze_dim=2.\n",
        "    Returns:\n",
        "        `tuple(torch.Tensor)` comprising of the query and key tensors rotated using the Rotary Position Embedding.\n",
        "    \"\"\"\n",
        "    cos = cos.unsqueeze(unsqueeze_dim)\n",
        "    sin = sin.unsqueeze(unsqueeze_dim)\n",
        "    q_embed = (q * cos) + (rotate_half(q) * sin)\n",
        "    k_embed = (k * cos) + (rotate_half(k) * sin)\n",
        "    return q_embed, k_embed\n",
        "\n",
        "\n",
        "def repeat_kv(hidden_states: torch.Tensor, n_rep: int) -> torch.Tensor:\n",
        "    \"\"\"\n",
        "    This is the equivalent of torch.repeat_interleave(x, dim=1, repeats=n_rep). The hidden states go from (batch,\n",
        "    num_key_value_heads, seqlen, head_dim) to (batch, num_attention_heads, seqlen, head_dim)\n",
        "    \"\"\"\n",
        "    batch, num_key_value_heads, slen, head_dim = hidden_states.shape\n",
        "    if n_rep == 1:\n",
        "        return hidden_states\n",
        "    hidden_states = hidden_states[:, :, None, :, :].expand(\n",
        "        batch, num_key_value_heads, n_rep, slen, head_dim\n",
        "    )\n",
        "    return hidden_states.reshape(batch, num_key_value_heads * n_rep, slen, head_dim)\n",
        "\n",
        "\n",
        "# modified version of https://github.com/huggingface/transformers/blob/7f95372c6267d3163fd2aa74aeff9d84ddb6cc35/src/transformers/models/llama/modeling_llama.py\n",
        "def custom_attention_forward(\n",
        "    self,\n",
        "    hidden_states: torch.Tensor,\n",
        "    attention_mask: Optional[torch.Tensor] = None,\n",
        "    position_ids: Optional[torch.LongTensor] = None,\n",
        "    past_key_value=None,\n",
        "    output_attentions: bool = False,\n",
        "    use_cache: bool = False,\n",
        "    cache_position: Optional[torch.LongTensor] = None,\n",
        "    position_embeddings: Optional[\n",
        "        Tuple[torch.Tensor, torch.Tensor]\n",
        "    ] = None,  # will become mandatory in v4.46\n",
        "    **kwargs,\n",
        "):\n",
        "    bsz, q_len, _ = hidden_states.size()\n",
        "\n",
        "    query_states = self.q_proj(hidden_states)\n",
        "    key_states = self.k_proj(hidden_states)\n",
        "    value_states = self.v_proj(hidden_states)\n",
        "\n",
        "    query_states = query_states.view(bsz, q_len, -1, self.head_dim).transpose(1, 2)\n",
        "    key_states = key_states.view(bsz, q_len, -1, self.head_dim).transpose(1, 2)\n",
        "    value_states = value_states.view(bsz, q_len, -1, self.head_dim).transpose(1, 2)\n",
        "\n",
        "    if position_embeddings is None:\n",
        "        cos, sin = self.rotary_emb(value_states, position_ids)\n",
        "    else:\n",
        "        cos, sin = position_embeddings\n",
        "    query_states, key_states = apply_rotary_pos_emb(query_states, key_states, cos, sin)\n",
        "\n",
        "    if past_key_value is not None:\n",
        "        # sin and cos are specific to RoPE models; cache_position needed for the static cache\n",
        "        cache_kwargs = {\"sin\": sin, \"cos\": cos, \"cache_position\": cache_position}\n",
        "        key_states, value_states = past_key_value.update(\n",
        "            key_states, value_states, self.layer_idx, cache_kwargs\n",
        "        )\n",
        "\n",
        "    key_states = repeat_kv(key_states, self.num_key_value_groups)\n",
        "    value_states = repeat_kv(value_states, self.num_key_value_groups)\n",
        "\n",
        "    # this is not memory optimal, can you tell why\n",
        "    query_states = query_states.transpose(1, 2)\n",
        "    key_states = key_states.transpose(1, 2)\n",
        "    value_states = value_states.transpose(1, 2)\n",
        "\n",
        "    attn_output = attention_forward(\n",
        "        query=query_states,\n",
        "        key=key_states,\n",
        "        value=value_states,\n",
        "        output_projection=self.o_proj,\n",
        "    )\n",
        "\n",
        "    return attn_output, None, past_key_value"
      ]
    },
    {
      "cell_type": "markdown",
      "metadata": {
        "id": "3FhW-7zqirsw"
      },
      "source": [
        "### Testing\n",
        "You can briefly test your solution below."
      ]
    },
    {
      "cell_type": "code",
      "execution_count": null,
      "metadata": {
        "id": "AHRqP8OHirsw"
      },
      "outputs": [],
      "source": [
        "from functools import partial\n",
        "\n",
        "model = LlamaForCausalLM.from_pretrained(\n",
        "    \"openlm-research/open_llama_3b_v2\", torch_dtype=torch.bfloat16, device_map=device\n",
        ")\n",
        "\n",
        "\n",
        "for p in model.parameters():\n",
        "    p.requires_grad = False\n",
        "\n",
        "for l in model.model.layers:\n",
        "    l.self_attn.forward = partial(custom_attention_forward, self=l.self_attn)\n",
        "\n",
        "\n",
        "text = [\"2 + 7 = \"]\n",
        "\n",
        "tokens_mask = tokenizer(text, return_tensors=\"pt\")\n",
        "tokens = tokens_mask[\"input_ids\"]\n",
        "attention_mask = tokens_mask[\"attention_mask\"]\n",
        "\n",
        "\n",
        "output = model(input_ids=tokens.to(device))\n",
        "next_token = torch.argmax(output.logits[0, -1])\n",
        "print(next_token)\n",
        "decoded = tokenizer.decode(next_token)\n",
        "print(f\"Model answer: {decoded}\")\n",
        "assert decoded == \"9\""
      ]
    },
    {
      "cell_type": "code",
      "execution_count": null,
      "metadata": {
        "id": "fDkH8D2Hirsw"
      },
      "outputs": [],
      "source": [
        "## If you have implemented the attention that can handle token by token generaion you can check your solution using the code below\n",
        "\n",
        "text = \"Solve x + 3 = 7\"\n",
        "tokens_mask = tokenizer(text, return_tensors=\"pt\")\n",
        "output = model.generate(\n",
        "    inputs=tokens_mask[\"input_ids\"].to(device),\n",
        "    max_new_tokens=8,\n",
        "    num_beams=1,\n",
        "    do_sample=False,\n",
        ")\n",
        "\n",
        "print(tokenizer.batch_decode(output))"
      ]
    }
  ],
  "metadata": {
    "kernelspec": {
      "display_name": ".venv",
      "language": "python",
      "name": "python3"
    },
    "language_info": {
      "codemirror_mode": {
        "name": "ipython",
        "version": 3
      },
      "file_extension": ".py",
      "mimetype": "text/x-python",
      "name": "python",
      "nbconvert_exporter": "python",
      "pygments_lexer": "ipython3",
      "version": "3.12.7"
    },
    "colab": {
      "provenance": [],
      "include_colab_link": true
    },
    "widgets": {
      "application/vnd.jupyter.widget-state+json": {
        "53beabb5537347fba5d03a00d8e2aa97": {
          "model_module": "@jupyter-widgets/controls",
          "model_name": "HBoxModel",
          "model_module_version": "1.5.0",
          "state": {
            "_dom_classes": [],
            "_model_module": "@jupyter-widgets/controls",
            "_model_module_version": "1.5.0",
            "_model_name": "HBoxModel",
            "_view_count": null,
            "_view_module": "@jupyter-widgets/controls",
            "_view_module_version": "1.5.0",
            "_view_name": "HBoxView",
            "box_style": "",
            "children": [
              "IPY_MODEL_a3e2235a560f4da5a965287ccc5de4ba",
              "IPY_MODEL_96ea156fb6744b6487e97aaa74e791da",
              "IPY_MODEL_263f72c601b24a1a9927d5aa6a5c4f0f"
            ],
            "layout": "IPY_MODEL_4e71e8daff1949398ac1bc823f5bd5b2"
          }
        },
        "a3e2235a560f4da5a965287ccc5de4ba": {
          "model_module": "@jupyter-widgets/controls",
          "model_name": "HTMLModel",
          "model_module_version": "1.5.0",
          "state": {
            "_dom_classes": [],
            "_model_module": "@jupyter-widgets/controls",
            "_model_module_version": "1.5.0",
            "_model_name": "HTMLModel",
            "_view_count": null,
            "_view_module": "@jupyter-widgets/controls",
            "_view_module_version": "1.5.0",
            "_view_name": "HTMLView",
            "description": "",
            "description_tooltip": null,
            "layout": "IPY_MODEL_9c72c8fbe6454325969cdc01641d81a2",
            "placeholder": "​",
            "style": "IPY_MODEL_ed085fdcea5b4803b7fea8b7574cb909",
            "value": "config.json: 100%"
          }
        },
        "96ea156fb6744b6487e97aaa74e791da": {
          "model_module": "@jupyter-widgets/controls",
          "model_name": "FloatProgressModel",
          "model_module_version": "1.5.0",
          "state": {
            "_dom_classes": [],
            "_model_module": "@jupyter-widgets/controls",
            "_model_module_version": "1.5.0",
            "_model_name": "FloatProgressModel",
            "_view_count": null,
            "_view_module": "@jupyter-widgets/controls",
            "_view_module_version": "1.5.0",
            "_view_name": "ProgressView",
            "bar_style": "success",
            "description": "",
            "description_tooltip": null,
            "layout": "IPY_MODEL_7898346d55d84b6c88f9836700bfeef0",
            "max": 506,
            "min": 0,
            "orientation": "horizontal",
            "style": "IPY_MODEL_c64996da99ba48a4b1d9e0e52026273a",
            "value": 506
          }
        },
        "263f72c601b24a1a9927d5aa6a5c4f0f": {
          "model_module": "@jupyter-widgets/controls",
          "model_name": "HTMLModel",
          "model_module_version": "1.5.0",
          "state": {
            "_dom_classes": [],
            "_model_module": "@jupyter-widgets/controls",
            "_model_module_version": "1.5.0",
            "_model_name": "HTMLModel",
            "_view_count": null,
            "_view_module": "@jupyter-widgets/controls",
            "_view_module_version": "1.5.0",
            "_view_name": "HTMLView",
            "description": "",
            "description_tooltip": null,
            "layout": "IPY_MODEL_2ecb308519dd4bae9d3a943551e6414c",
            "placeholder": "​",
            "style": "IPY_MODEL_9661640345bc4db59abcf0ff1c7e8e1b",
            "value": " 506/506 [00:00&lt;00:00, 6.00kB/s]"
          }
        },
        "4e71e8daff1949398ac1bc823f5bd5b2": {
          "model_module": "@jupyter-widgets/base",
          "model_name": "LayoutModel",
          "model_module_version": "1.2.0",
          "state": {
            "_model_module": "@jupyter-widgets/base",
            "_model_module_version": "1.2.0",
            "_model_name": "LayoutModel",
            "_view_count": null,
            "_view_module": "@jupyter-widgets/base",
            "_view_module_version": "1.2.0",
            "_view_name": "LayoutView",
            "align_content": null,
            "align_items": null,
            "align_self": null,
            "border": null,
            "bottom": null,
            "display": null,
            "flex": null,
            "flex_flow": null,
            "grid_area": null,
            "grid_auto_columns": null,
            "grid_auto_flow": null,
            "grid_auto_rows": null,
            "grid_column": null,
            "grid_gap": null,
            "grid_row": null,
            "grid_template_areas": null,
            "grid_template_columns": null,
            "grid_template_rows": null,
            "height": null,
            "justify_content": null,
            "justify_items": null,
            "left": null,
            "margin": null,
            "max_height": null,
            "max_width": null,
            "min_height": null,
            "min_width": null,
            "object_fit": null,
            "object_position": null,
            "order": null,
            "overflow": null,
            "overflow_x": null,
            "overflow_y": null,
            "padding": null,
            "right": null,
            "top": null,
            "visibility": null,
            "width": null
          }
        },
        "9c72c8fbe6454325969cdc01641d81a2": {
          "model_module": "@jupyter-widgets/base",
          "model_name": "LayoutModel",
          "model_module_version": "1.2.0",
          "state": {
            "_model_module": "@jupyter-widgets/base",
            "_model_module_version": "1.2.0",
            "_model_name": "LayoutModel",
            "_view_count": null,
            "_view_module": "@jupyter-widgets/base",
            "_view_module_version": "1.2.0",
            "_view_name": "LayoutView",
            "align_content": null,
            "align_items": null,
            "align_self": null,
            "border": null,
            "bottom": null,
            "display": null,
            "flex": null,
            "flex_flow": null,
            "grid_area": null,
            "grid_auto_columns": null,
            "grid_auto_flow": null,
            "grid_auto_rows": null,
            "grid_column": null,
            "grid_gap": null,
            "grid_row": null,
            "grid_template_areas": null,
            "grid_template_columns": null,
            "grid_template_rows": null,
            "height": null,
            "justify_content": null,
            "justify_items": null,
            "left": null,
            "margin": null,
            "max_height": null,
            "max_width": null,
            "min_height": null,
            "min_width": null,
            "object_fit": null,
            "object_position": null,
            "order": null,
            "overflow": null,
            "overflow_x": null,
            "overflow_y": null,
            "padding": null,
            "right": null,
            "top": null,
            "visibility": null,
            "width": null
          }
        },
        "ed085fdcea5b4803b7fea8b7574cb909": {
          "model_module": "@jupyter-widgets/controls",
          "model_name": "DescriptionStyleModel",
          "model_module_version": "1.5.0",
          "state": {
            "_model_module": "@jupyter-widgets/controls",
            "_model_module_version": "1.5.0",
            "_model_name": "DescriptionStyleModel",
            "_view_count": null,
            "_view_module": "@jupyter-widgets/base",
            "_view_module_version": "1.2.0",
            "_view_name": "StyleView",
            "description_width": ""
          }
        },
        "7898346d55d84b6c88f9836700bfeef0": {
          "model_module": "@jupyter-widgets/base",
          "model_name": "LayoutModel",
          "model_module_version": "1.2.0",
          "state": {
            "_model_module": "@jupyter-widgets/base",
            "_model_module_version": "1.2.0",
            "_model_name": "LayoutModel",
            "_view_count": null,
            "_view_module": "@jupyter-widgets/base",
            "_view_module_version": "1.2.0",
            "_view_name": "LayoutView",
            "align_content": null,
            "align_items": null,
            "align_self": null,
            "border": null,
            "bottom": null,
            "display": null,
            "flex": null,
            "flex_flow": null,
            "grid_area": null,
            "grid_auto_columns": null,
            "grid_auto_flow": null,
            "grid_auto_rows": null,
            "grid_column": null,
            "grid_gap": null,
            "grid_row": null,
            "grid_template_areas": null,
            "grid_template_columns": null,
            "grid_template_rows": null,
            "height": null,
            "justify_content": null,
            "justify_items": null,
            "left": null,
            "margin": null,
            "max_height": null,
            "max_width": null,
            "min_height": null,
            "min_width": null,
            "object_fit": null,
            "object_position": null,
            "order": null,
            "overflow": null,
            "overflow_x": null,
            "overflow_y": null,
            "padding": null,
            "right": null,
            "top": null,
            "visibility": null,
            "width": null
          }
        },
        "c64996da99ba48a4b1d9e0e52026273a": {
          "model_module": "@jupyter-widgets/controls",
          "model_name": "ProgressStyleModel",
          "model_module_version": "1.5.0",
          "state": {
            "_model_module": "@jupyter-widgets/controls",
            "_model_module_version": "1.5.0",
            "_model_name": "ProgressStyleModel",
            "_view_count": null,
            "_view_module": "@jupyter-widgets/base",
            "_view_module_version": "1.2.0",
            "_view_name": "StyleView",
            "bar_color": null,
            "description_width": ""
          }
        },
        "2ecb308519dd4bae9d3a943551e6414c": {
          "model_module": "@jupyter-widgets/base",
          "model_name": "LayoutModel",
          "model_module_version": "1.2.0",
          "state": {
            "_model_module": "@jupyter-widgets/base",
            "_model_module_version": "1.2.0",
            "_model_name": "LayoutModel",
            "_view_count": null,
            "_view_module": "@jupyter-widgets/base",
            "_view_module_version": "1.2.0",
            "_view_name": "LayoutView",
            "align_content": null,
            "align_items": null,
            "align_self": null,
            "border": null,
            "bottom": null,
            "display": null,
            "flex": null,
            "flex_flow": null,
            "grid_area": null,
            "grid_auto_columns": null,
            "grid_auto_flow": null,
            "grid_auto_rows": null,
            "grid_column": null,
            "grid_gap": null,
            "grid_row": null,
            "grid_template_areas": null,
            "grid_template_columns": null,
            "grid_template_rows": null,
            "height": null,
            "justify_content": null,
            "justify_items": null,
            "left": null,
            "margin": null,
            "max_height": null,
            "max_width": null,
            "min_height": null,
            "min_width": null,
            "object_fit": null,
            "object_position": null,
            "order": null,
            "overflow": null,
            "overflow_x": null,
            "overflow_y": null,
            "padding": null,
            "right": null,
            "top": null,
            "visibility": null,
            "width": null
          }
        },
        "9661640345bc4db59abcf0ff1c7e8e1b": {
          "model_module": "@jupyter-widgets/controls",
          "model_name": "DescriptionStyleModel",
          "model_module_version": "1.5.0",
          "state": {
            "_model_module": "@jupyter-widgets/controls",
            "_model_module_version": "1.5.0",
            "_model_name": "DescriptionStyleModel",
            "_view_count": null,
            "_view_module": "@jupyter-widgets/base",
            "_view_module_version": "1.2.0",
            "_view_name": "StyleView",
            "description_width": ""
          }
        },
        "508a5dcf000a48aebcd5752a9f4928fb": {
          "model_module": "@jupyter-widgets/controls",
          "model_name": "HBoxModel",
          "model_module_version": "1.5.0",
          "state": {
            "_dom_classes": [],
            "_model_module": "@jupyter-widgets/controls",
            "_model_module_version": "1.5.0",
            "_model_name": "HBoxModel",
            "_view_count": null,
            "_view_module": "@jupyter-widgets/controls",
            "_view_module_version": "1.5.0",
            "_view_name": "HBoxView",
            "box_style": "",
            "children": [
              "IPY_MODEL_b8ab630ae02c43be812b602d8799f9ad",
              "IPY_MODEL_cd7d433581ff49c69c0fd49b32d137e5",
              "IPY_MODEL_af07089fa4554c7f8af4c84cfcf23a47"
            ],
            "layout": "IPY_MODEL_4794a008d1e14c139bbbac45add16455"
          }
        },
        "b8ab630ae02c43be812b602d8799f9ad": {
          "model_module": "@jupyter-widgets/controls",
          "model_name": "HTMLModel",
          "model_module_version": "1.5.0",
          "state": {
            "_dom_classes": [],
            "_model_module": "@jupyter-widgets/controls",
            "_model_module_version": "1.5.0",
            "_model_name": "HTMLModel",
            "_view_count": null,
            "_view_module": "@jupyter-widgets/controls",
            "_view_module_version": "1.5.0",
            "_view_name": "HTMLView",
            "description": "",
            "description_tooltip": null,
            "layout": "IPY_MODEL_9b75a795520c4ddf909b4061256e568d",
            "placeholder": "​",
            "style": "IPY_MODEL_cd15d3368e2b494fb9bc16f465e23116",
            "value": "pytorch_model.bin: 100%"
          }
        },
        "cd7d433581ff49c69c0fd49b32d137e5": {
          "model_module": "@jupyter-widgets/controls",
          "model_name": "FloatProgressModel",
          "model_module_version": "1.5.0",
          "state": {
            "_dom_classes": [],
            "_model_module": "@jupyter-widgets/controls",
            "_model_module_version": "1.5.0",
            "_model_name": "FloatProgressModel",
            "_view_count": null,
            "_view_module": "@jupyter-widgets/controls",
            "_view_module_version": "1.5.0",
            "_view_name": "ProgressView",
            "bar_style": "success",
            "description": "",
            "description_tooltip": null,
            "layout": "IPY_MODEL_9a0fcba2c49b4747a201ab2584035d7a",
            "max": 6853038093,
            "min": 0,
            "orientation": "horizontal",
            "style": "IPY_MODEL_9bcdf7ef986e46289de460a8935ac1a3",
            "value": 6853038093
          }
        },
        "af07089fa4554c7f8af4c84cfcf23a47": {
          "model_module": "@jupyter-widgets/controls",
          "model_name": "HTMLModel",
          "model_module_version": "1.5.0",
          "state": {
            "_dom_classes": [],
            "_model_module": "@jupyter-widgets/controls",
            "_model_module_version": "1.5.0",
            "_model_name": "HTMLModel",
            "_view_count": null,
            "_view_module": "@jupyter-widgets/controls",
            "_view_module_version": "1.5.0",
            "_view_name": "HTMLView",
            "description": "",
            "description_tooltip": null,
            "layout": "IPY_MODEL_ad64328d02d949aabfcc3fe25276de6c",
            "placeholder": "​",
            "style": "IPY_MODEL_e1609f8993d04b02b8f27714c6086732",
            "value": " 6.85G/6.85G [01:00&lt;00:00, 128MB/s]"
          }
        },
        "4794a008d1e14c139bbbac45add16455": {
          "model_module": "@jupyter-widgets/base",
          "model_name": "LayoutModel",
          "model_module_version": "1.2.0",
          "state": {
            "_model_module": "@jupyter-widgets/base",
            "_model_module_version": "1.2.0",
            "_model_name": "LayoutModel",
            "_view_count": null,
            "_view_module": "@jupyter-widgets/base",
            "_view_module_version": "1.2.0",
            "_view_name": "LayoutView",
            "align_content": null,
            "align_items": null,
            "align_self": null,
            "border": null,
            "bottom": null,
            "display": null,
            "flex": null,
            "flex_flow": null,
            "grid_area": null,
            "grid_auto_columns": null,
            "grid_auto_flow": null,
            "grid_auto_rows": null,
            "grid_column": null,
            "grid_gap": null,
            "grid_row": null,
            "grid_template_areas": null,
            "grid_template_columns": null,
            "grid_template_rows": null,
            "height": null,
            "justify_content": null,
            "justify_items": null,
            "left": null,
            "margin": null,
            "max_height": null,
            "max_width": null,
            "min_height": null,
            "min_width": null,
            "object_fit": null,
            "object_position": null,
            "order": null,
            "overflow": null,
            "overflow_x": null,
            "overflow_y": null,
            "padding": null,
            "right": null,
            "top": null,
            "visibility": null,
            "width": null
          }
        },
        "9b75a795520c4ddf909b4061256e568d": {
          "model_module": "@jupyter-widgets/base",
          "model_name": "LayoutModel",
          "model_module_version": "1.2.0",
          "state": {
            "_model_module": "@jupyter-widgets/base",
            "_model_module_version": "1.2.0",
            "_model_name": "LayoutModel",
            "_view_count": null,
            "_view_module": "@jupyter-widgets/base",
            "_view_module_version": "1.2.0",
            "_view_name": "LayoutView",
            "align_content": null,
            "align_items": null,
            "align_self": null,
            "border": null,
            "bottom": null,
            "display": null,
            "flex": null,
            "flex_flow": null,
            "grid_area": null,
            "grid_auto_columns": null,
            "grid_auto_flow": null,
            "grid_auto_rows": null,
            "grid_column": null,
            "grid_gap": null,
            "grid_row": null,
            "grid_template_areas": null,
            "grid_template_columns": null,
            "grid_template_rows": null,
            "height": null,
            "justify_content": null,
            "justify_items": null,
            "left": null,
            "margin": null,
            "max_height": null,
            "max_width": null,
            "min_height": null,
            "min_width": null,
            "object_fit": null,
            "object_position": null,
            "order": null,
            "overflow": null,
            "overflow_x": null,
            "overflow_y": null,
            "padding": null,
            "right": null,
            "top": null,
            "visibility": null,
            "width": null
          }
        },
        "cd15d3368e2b494fb9bc16f465e23116": {
          "model_module": "@jupyter-widgets/controls",
          "model_name": "DescriptionStyleModel",
          "model_module_version": "1.5.0",
          "state": {
            "_model_module": "@jupyter-widgets/controls",
            "_model_module_version": "1.5.0",
            "_model_name": "DescriptionStyleModel",
            "_view_count": null,
            "_view_module": "@jupyter-widgets/base",
            "_view_module_version": "1.2.0",
            "_view_name": "StyleView",
            "description_width": ""
          }
        },
        "9a0fcba2c49b4747a201ab2584035d7a": {
          "model_module": "@jupyter-widgets/base",
          "model_name": "LayoutModel",
          "model_module_version": "1.2.0",
          "state": {
            "_model_module": "@jupyter-widgets/base",
            "_model_module_version": "1.2.0",
            "_model_name": "LayoutModel",
            "_view_count": null,
            "_view_module": "@jupyter-widgets/base",
            "_view_module_version": "1.2.0",
            "_view_name": "LayoutView",
            "align_content": null,
            "align_items": null,
            "align_self": null,
            "border": null,
            "bottom": null,
            "display": null,
            "flex": null,
            "flex_flow": null,
            "grid_area": null,
            "grid_auto_columns": null,
            "grid_auto_flow": null,
            "grid_auto_rows": null,
            "grid_column": null,
            "grid_gap": null,
            "grid_row": null,
            "grid_template_areas": null,
            "grid_template_columns": null,
            "grid_template_rows": null,
            "height": null,
            "justify_content": null,
            "justify_items": null,
            "left": null,
            "margin": null,
            "max_height": null,
            "max_width": null,
            "min_height": null,
            "min_width": null,
            "object_fit": null,
            "object_position": null,
            "order": null,
            "overflow": null,
            "overflow_x": null,
            "overflow_y": null,
            "padding": null,
            "right": null,
            "top": null,
            "visibility": null,
            "width": null
          }
        },
        "9bcdf7ef986e46289de460a8935ac1a3": {
          "model_module": "@jupyter-widgets/controls",
          "model_name": "ProgressStyleModel",
          "model_module_version": "1.5.0",
          "state": {
            "_model_module": "@jupyter-widgets/controls",
            "_model_module_version": "1.5.0",
            "_model_name": "ProgressStyleModel",
            "_view_count": null,
            "_view_module": "@jupyter-widgets/base",
            "_view_module_version": "1.2.0",
            "_view_name": "StyleView",
            "bar_color": null,
            "description_width": ""
          }
        },
        "ad64328d02d949aabfcc3fe25276de6c": {
          "model_module": "@jupyter-widgets/base",
          "model_name": "LayoutModel",
          "model_module_version": "1.2.0",
          "state": {
            "_model_module": "@jupyter-widgets/base",
            "_model_module_version": "1.2.0",
            "_model_name": "LayoutModel",
            "_view_count": null,
            "_view_module": "@jupyter-widgets/base",
            "_view_module_version": "1.2.0",
            "_view_name": "LayoutView",
            "align_content": null,
            "align_items": null,
            "align_self": null,
            "border": null,
            "bottom": null,
            "display": null,
            "flex": null,
            "flex_flow": null,
            "grid_area": null,
            "grid_auto_columns": null,
            "grid_auto_flow": null,
            "grid_auto_rows": null,
            "grid_column": null,
            "grid_gap": null,
            "grid_row": null,
            "grid_template_areas": null,
            "grid_template_columns": null,
            "grid_template_rows": null,
            "height": null,
            "justify_content": null,
            "justify_items": null,
            "left": null,
            "margin": null,
            "max_height": null,
            "max_width": null,
            "min_height": null,
            "min_width": null,
            "object_fit": null,
            "object_position": null,
            "order": null,
            "overflow": null,
            "overflow_x": null,
            "overflow_y": null,
            "padding": null,
            "right": null,
            "top": null,
            "visibility": null,
            "width": null
          }
        },
        "e1609f8993d04b02b8f27714c6086732": {
          "model_module": "@jupyter-widgets/controls",
          "model_name": "DescriptionStyleModel",
          "model_module_version": "1.5.0",
          "state": {
            "_model_module": "@jupyter-widgets/controls",
            "_model_module_version": "1.5.0",
            "_model_name": "DescriptionStyleModel",
            "_view_count": null,
            "_view_module": "@jupyter-widgets/base",
            "_view_module_version": "1.2.0",
            "_view_name": "StyleView",
            "description_width": ""
          }
        },
        "f490b6d71a7f4c388992c485f1009a4b": {
          "model_module": "@jupyter-widgets/controls",
          "model_name": "HBoxModel",
          "model_module_version": "1.5.0",
          "state": {
            "_dom_classes": [],
            "_model_module": "@jupyter-widgets/controls",
            "_model_module_version": "1.5.0",
            "_model_name": "HBoxModel",
            "_view_count": null,
            "_view_module": "@jupyter-widgets/controls",
            "_view_module_version": "1.5.0",
            "_view_name": "HBoxView",
            "box_style": "",
            "children": [
              "IPY_MODEL_ab55700568734b11a457e931a81666fa",
              "IPY_MODEL_17e35b6f897c416e8ea7011dc0ca3322",
              "IPY_MODEL_66360d3ab73a469cb3ed5adb0a0e0348"
            ],
            "layout": "IPY_MODEL_6c594b26de674781a295b08c6ac36dd8"
          }
        },
        "ab55700568734b11a457e931a81666fa": {
          "model_module": "@jupyter-widgets/controls",
          "model_name": "HTMLModel",
          "model_module_version": "1.5.0",
          "state": {
            "_dom_classes": [],
            "_model_module": "@jupyter-widgets/controls",
            "_model_module_version": "1.5.0",
            "_model_name": "HTMLModel",
            "_view_count": null,
            "_view_module": "@jupyter-widgets/controls",
            "_view_module_version": "1.5.0",
            "_view_name": "HTMLView",
            "description": "",
            "description_tooltip": null,
            "layout": "IPY_MODEL_4a6640b250a4409ebcba004e3445ed5b",
            "placeholder": "​",
            "style": "IPY_MODEL_b36c2da49318429aa5ed5738d2fa050b",
            "value": "generation_config.json: 100%"
          }
        },
        "17e35b6f897c416e8ea7011dc0ca3322": {
          "model_module": "@jupyter-widgets/controls",
          "model_name": "FloatProgressModel",
          "model_module_version": "1.5.0",
          "state": {
            "_dom_classes": [],
            "_model_module": "@jupyter-widgets/controls",
            "_model_module_version": "1.5.0",
            "_model_name": "FloatProgressModel",
            "_view_count": null,
            "_view_module": "@jupyter-widgets/controls",
            "_view_module_version": "1.5.0",
            "_view_name": "ProgressView",
            "bar_style": "success",
            "description": "",
            "description_tooltip": null,
            "layout": "IPY_MODEL_5b6c2021a6834d1aa45b355f22c03282",
            "max": 137,
            "min": 0,
            "orientation": "horizontal",
            "style": "IPY_MODEL_fd2baed3fc4040ce89b6a04bdf1d462f",
            "value": 137
          }
        },
        "66360d3ab73a469cb3ed5adb0a0e0348": {
          "model_module": "@jupyter-widgets/controls",
          "model_name": "HTMLModel",
          "model_module_version": "1.5.0",
          "state": {
            "_dom_classes": [],
            "_model_module": "@jupyter-widgets/controls",
            "_model_module_version": "1.5.0",
            "_model_name": "HTMLModel",
            "_view_count": null,
            "_view_module": "@jupyter-widgets/controls",
            "_view_module_version": "1.5.0",
            "_view_name": "HTMLView",
            "description": "",
            "description_tooltip": null,
            "layout": "IPY_MODEL_ed0a6077533d46a49e13dfdf0c028561",
            "placeholder": "​",
            "style": "IPY_MODEL_d892acad29ea47319b6e697ea0ae5137",
            "value": " 137/137 [00:00&lt;00:00, 7.48kB/s]"
          }
        },
        "6c594b26de674781a295b08c6ac36dd8": {
          "model_module": "@jupyter-widgets/base",
          "model_name": "LayoutModel",
          "model_module_version": "1.2.0",
          "state": {
            "_model_module": "@jupyter-widgets/base",
            "_model_module_version": "1.2.0",
            "_model_name": "LayoutModel",
            "_view_count": null,
            "_view_module": "@jupyter-widgets/base",
            "_view_module_version": "1.2.0",
            "_view_name": "LayoutView",
            "align_content": null,
            "align_items": null,
            "align_self": null,
            "border": null,
            "bottom": null,
            "display": null,
            "flex": null,
            "flex_flow": null,
            "grid_area": null,
            "grid_auto_columns": null,
            "grid_auto_flow": null,
            "grid_auto_rows": null,
            "grid_column": null,
            "grid_gap": null,
            "grid_row": null,
            "grid_template_areas": null,
            "grid_template_columns": null,
            "grid_template_rows": null,
            "height": null,
            "justify_content": null,
            "justify_items": null,
            "left": null,
            "margin": null,
            "max_height": null,
            "max_width": null,
            "min_height": null,
            "min_width": null,
            "object_fit": null,
            "object_position": null,
            "order": null,
            "overflow": null,
            "overflow_x": null,
            "overflow_y": null,
            "padding": null,
            "right": null,
            "top": null,
            "visibility": null,
            "width": null
          }
        },
        "4a6640b250a4409ebcba004e3445ed5b": {
          "model_module": "@jupyter-widgets/base",
          "model_name": "LayoutModel",
          "model_module_version": "1.2.0",
          "state": {
            "_model_module": "@jupyter-widgets/base",
            "_model_module_version": "1.2.0",
            "_model_name": "LayoutModel",
            "_view_count": null,
            "_view_module": "@jupyter-widgets/base",
            "_view_module_version": "1.2.0",
            "_view_name": "LayoutView",
            "align_content": null,
            "align_items": null,
            "align_self": null,
            "border": null,
            "bottom": null,
            "display": null,
            "flex": null,
            "flex_flow": null,
            "grid_area": null,
            "grid_auto_columns": null,
            "grid_auto_flow": null,
            "grid_auto_rows": null,
            "grid_column": null,
            "grid_gap": null,
            "grid_row": null,
            "grid_template_areas": null,
            "grid_template_columns": null,
            "grid_template_rows": null,
            "height": null,
            "justify_content": null,
            "justify_items": null,
            "left": null,
            "margin": null,
            "max_height": null,
            "max_width": null,
            "min_height": null,
            "min_width": null,
            "object_fit": null,
            "object_position": null,
            "order": null,
            "overflow": null,
            "overflow_x": null,
            "overflow_y": null,
            "padding": null,
            "right": null,
            "top": null,
            "visibility": null,
            "width": null
          }
        },
        "b36c2da49318429aa5ed5738d2fa050b": {
          "model_module": "@jupyter-widgets/controls",
          "model_name": "DescriptionStyleModel",
          "model_module_version": "1.5.0",
          "state": {
            "_model_module": "@jupyter-widgets/controls",
            "_model_module_version": "1.5.0",
            "_model_name": "DescriptionStyleModel",
            "_view_count": null,
            "_view_module": "@jupyter-widgets/base",
            "_view_module_version": "1.2.0",
            "_view_name": "StyleView",
            "description_width": ""
          }
        },
        "5b6c2021a6834d1aa45b355f22c03282": {
          "model_module": "@jupyter-widgets/base",
          "model_name": "LayoutModel",
          "model_module_version": "1.2.0",
          "state": {
            "_model_module": "@jupyter-widgets/base",
            "_model_module_version": "1.2.0",
            "_model_name": "LayoutModel",
            "_view_count": null,
            "_view_module": "@jupyter-widgets/base",
            "_view_module_version": "1.2.0",
            "_view_name": "LayoutView",
            "align_content": null,
            "align_items": null,
            "align_self": null,
            "border": null,
            "bottom": null,
            "display": null,
            "flex": null,
            "flex_flow": null,
            "grid_area": null,
            "grid_auto_columns": null,
            "grid_auto_flow": null,
            "grid_auto_rows": null,
            "grid_column": null,
            "grid_gap": null,
            "grid_row": null,
            "grid_template_areas": null,
            "grid_template_columns": null,
            "grid_template_rows": null,
            "height": null,
            "justify_content": null,
            "justify_items": null,
            "left": null,
            "margin": null,
            "max_height": null,
            "max_width": null,
            "min_height": null,
            "min_width": null,
            "object_fit": null,
            "object_position": null,
            "order": null,
            "overflow": null,
            "overflow_x": null,
            "overflow_y": null,
            "padding": null,
            "right": null,
            "top": null,
            "visibility": null,
            "width": null
          }
        },
        "fd2baed3fc4040ce89b6a04bdf1d462f": {
          "model_module": "@jupyter-widgets/controls",
          "model_name": "ProgressStyleModel",
          "model_module_version": "1.5.0",
          "state": {
            "_model_module": "@jupyter-widgets/controls",
            "_model_module_version": "1.5.0",
            "_model_name": "ProgressStyleModel",
            "_view_count": null,
            "_view_module": "@jupyter-widgets/base",
            "_view_module_version": "1.2.0",
            "_view_name": "StyleView",
            "bar_color": null,
            "description_width": ""
          }
        },
        "ed0a6077533d46a49e13dfdf0c028561": {
          "model_module": "@jupyter-widgets/base",
          "model_name": "LayoutModel",
          "model_module_version": "1.2.0",
          "state": {
            "_model_module": "@jupyter-widgets/base",
            "_model_module_version": "1.2.0",
            "_model_name": "LayoutModel",
            "_view_count": null,
            "_view_module": "@jupyter-widgets/base",
            "_view_module_version": "1.2.0",
            "_view_name": "LayoutView",
            "align_content": null,
            "align_items": null,
            "align_self": null,
            "border": null,
            "bottom": null,
            "display": null,
            "flex": null,
            "flex_flow": null,
            "grid_area": null,
            "grid_auto_columns": null,
            "grid_auto_flow": null,
            "grid_auto_rows": null,
            "grid_column": null,
            "grid_gap": null,
            "grid_row": null,
            "grid_template_areas": null,
            "grid_template_columns": null,
            "grid_template_rows": null,
            "height": null,
            "justify_content": null,
            "justify_items": null,
            "left": null,
            "margin": null,
            "max_height": null,
            "max_width": null,
            "min_height": null,
            "min_width": null,
            "object_fit": null,
            "object_position": null,
            "order": null,
            "overflow": null,
            "overflow_x": null,
            "overflow_y": null,
            "padding": null,
            "right": null,
            "top": null,
            "visibility": null,
            "width": null
          }
        },
        "d892acad29ea47319b6e697ea0ae5137": {
          "model_module": "@jupyter-widgets/controls",
          "model_name": "DescriptionStyleModel",
          "model_module_version": "1.5.0",
          "state": {
            "_model_module": "@jupyter-widgets/controls",
            "_model_module_version": "1.5.0",
            "_model_name": "DescriptionStyleModel",
            "_view_count": null,
            "_view_module": "@jupyter-widgets/base",
            "_view_module_version": "1.2.0",
            "_view_name": "StyleView",
            "description_width": ""
          }
        }
      }
    }
  },
  "nbformat": 4,
  "nbformat_minor": 0
}